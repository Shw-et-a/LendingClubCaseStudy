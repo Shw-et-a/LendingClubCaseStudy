{
 "cells": [
  {
   "cell_type": "code",
   "execution_count": 1,
   "id": "fd6d5024",
   "metadata": {},
   "outputs": [],
   "source": [
    "##IMPORTING LIBRARIES\n",
    "import numpy as np\n",
    "import pandas as pd\n",
    "import matplotlib.pyplot as plt\n",
    "import seaborn as sns\n",
    "import warnings\n"
   ]
  },
  {
   "cell_type": "code",
   "execution_count": 2,
   "id": "023a57e4",
   "metadata": {},
   "outputs": [
    {
     "name": "stderr",
     "output_type": "stream",
     "text": [
      "C:\\Users\\Shweta\\AppData\\Local\\Temp\\ipykernel_22184\\843028827.py:2: DtypeWarning: Columns (47) have mixed types. Specify dtype option on import or set low_memory=False.\n",
      "  loan_data = pd.read_csv(\"D:\\mca\\pg\\lending_club\\loan.csv\")\n"
     ]
    },
    {
     "data": {
      "text/html": [
       "<div>\n",
       "<style scoped>\n",
       "    .dataframe tbody tr th:only-of-type {\n",
       "        vertical-align: middle;\n",
       "    }\n",
       "\n",
       "    .dataframe tbody tr th {\n",
       "        vertical-align: top;\n",
       "    }\n",
       "\n",
       "    .dataframe thead th {\n",
       "        text-align: right;\n",
       "    }\n",
       "</style>\n",
       "<table border=\"1\" class=\"dataframe\">\n",
       "  <thead>\n",
       "    <tr style=\"text-align: right;\">\n",
       "      <th></th>\n",
       "      <th>id</th>\n",
       "      <th>member_id</th>\n",
       "      <th>loan_amnt</th>\n",
       "      <th>funded_amnt</th>\n",
       "      <th>funded_amnt_inv</th>\n",
       "      <th>term</th>\n",
       "      <th>int_rate</th>\n",
       "      <th>installment</th>\n",
       "      <th>grade</th>\n",
       "      <th>sub_grade</th>\n",
       "      <th>...</th>\n",
       "      <th>num_tl_90g_dpd_24m</th>\n",
       "      <th>num_tl_op_past_12m</th>\n",
       "      <th>pct_tl_nvr_dlq</th>\n",
       "      <th>percent_bc_gt_75</th>\n",
       "      <th>pub_rec_bankruptcies</th>\n",
       "      <th>tax_liens</th>\n",
       "      <th>tot_hi_cred_lim</th>\n",
       "      <th>total_bal_ex_mort</th>\n",
       "      <th>total_bc_limit</th>\n",
       "      <th>total_il_high_credit_limit</th>\n",
       "    </tr>\n",
       "  </thead>\n",
       "  <tbody>\n",
       "    <tr>\n",
       "      <th>0</th>\n",
       "      <td>1077501</td>\n",
       "      <td>1296599</td>\n",
       "      <td>5000</td>\n",
       "      <td>5000</td>\n",
       "      <td>4975.0</td>\n",
       "      <td>36 months</td>\n",
       "      <td>10.65%</td>\n",
       "      <td>162.87</td>\n",
       "      <td>B</td>\n",
       "      <td>B2</td>\n",
       "      <td>...</td>\n",
       "      <td>NaN</td>\n",
       "      <td>NaN</td>\n",
       "      <td>NaN</td>\n",
       "      <td>NaN</td>\n",
       "      <td>0.0</td>\n",
       "      <td>0.0</td>\n",
       "      <td>NaN</td>\n",
       "      <td>NaN</td>\n",
       "      <td>NaN</td>\n",
       "      <td>NaN</td>\n",
       "    </tr>\n",
       "    <tr>\n",
       "      <th>1</th>\n",
       "      <td>1077430</td>\n",
       "      <td>1314167</td>\n",
       "      <td>2500</td>\n",
       "      <td>2500</td>\n",
       "      <td>2500.0</td>\n",
       "      <td>60 months</td>\n",
       "      <td>15.27%</td>\n",
       "      <td>59.83</td>\n",
       "      <td>C</td>\n",
       "      <td>C4</td>\n",
       "      <td>...</td>\n",
       "      <td>NaN</td>\n",
       "      <td>NaN</td>\n",
       "      <td>NaN</td>\n",
       "      <td>NaN</td>\n",
       "      <td>0.0</td>\n",
       "      <td>0.0</td>\n",
       "      <td>NaN</td>\n",
       "      <td>NaN</td>\n",
       "      <td>NaN</td>\n",
       "      <td>NaN</td>\n",
       "    </tr>\n",
       "    <tr>\n",
       "      <th>2</th>\n",
       "      <td>1077175</td>\n",
       "      <td>1313524</td>\n",
       "      <td>2400</td>\n",
       "      <td>2400</td>\n",
       "      <td>2400.0</td>\n",
       "      <td>36 months</td>\n",
       "      <td>15.96%</td>\n",
       "      <td>84.33</td>\n",
       "      <td>C</td>\n",
       "      <td>C5</td>\n",
       "      <td>...</td>\n",
       "      <td>NaN</td>\n",
       "      <td>NaN</td>\n",
       "      <td>NaN</td>\n",
       "      <td>NaN</td>\n",
       "      <td>0.0</td>\n",
       "      <td>0.0</td>\n",
       "      <td>NaN</td>\n",
       "      <td>NaN</td>\n",
       "      <td>NaN</td>\n",
       "      <td>NaN</td>\n",
       "    </tr>\n",
       "    <tr>\n",
       "      <th>3</th>\n",
       "      <td>1076863</td>\n",
       "      <td>1277178</td>\n",
       "      <td>10000</td>\n",
       "      <td>10000</td>\n",
       "      <td>10000.0</td>\n",
       "      <td>36 months</td>\n",
       "      <td>13.49%</td>\n",
       "      <td>339.31</td>\n",
       "      <td>C</td>\n",
       "      <td>C1</td>\n",
       "      <td>...</td>\n",
       "      <td>NaN</td>\n",
       "      <td>NaN</td>\n",
       "      <td>NaN</td>\n",
       "      <td>NaN</td>\n",
       "      <td>0.0</td>\n",
       "      <td>0.0</td>\n",
       "      <td>NaN</td>\n",
       "      <td>NaN</td>\n",
       "      <td>NaN</td>\n",
       "      <td>NaN</td>\n",
       "    </tr>\n",
       "    <tr>\n",
       "      <th>4</th>\n",
       "      <td>1075358</td>\n",
       "      <td>1311748</td>\n",
       "      <td>3000</td>\n",
       "      <td>3000</td>\n",
       "      <td>3000.0</td>\n",
       "      <td>60 months</td>\n",
       "      <td>12.69%</td>\n",
       "      <td>67.79</td>\n",
       "      <td>B</td>\n",
       "      <td>B5</td>\n",
       "      <td>...</td>\n",
       "      <td>NaN</td>\n",
       "      <td>NaN</td>\n",
       "      <td>NaN</td>\n",
       "      <td>NaN</td>\n",
       "      <td>0.0</td>\n",
       "      <td>0.0</td>\n",
       "      <td>NaN</td>\n",
       "      <td>NaN</td>\n",
       "      <td>NaN</td>\n",
       "      <td>NaN</td>\n",
       "    </tr>\n",
       "  </tbody>\n",
       "</table>\n",
       "<p>5 rows × 111 columns</p>\n",
       "</div>"
      ],
      "text/plain": [
       "        id  member_id  loan_amnt  funded_amnt  funded_amnt_inv        term  \\\n",
       "0  1077501    1296599       5000         5000           4975.0   36 months   \n",
       "1  1077430    1314167       2500         2500           2500.0   60 months   \n",
       "2  1077175    1313524       2400         2400           2400.0   36 months   \n",
       "3  1076863    1277178      10000        10000          10000.0   36 months   \n",
       "4  1075358    1311748       3000         3000           3000.0   60 months   \n",
       "\n",
       "  int_rate  installment grade sub_grade  ... num_tl_90g_dpd_24m  \\\n",
       "0   10.65%       162.87     B        B2  ...                NaN   \n",
       "1   15.27%        59.83     C        C4  ...                NaN   \n",
       "2   15.96%        84.33     C        C5  ...                NaN   \n",
       "3   13.49%       339.31     C        C1  ...                NaN   \n",
       "4   12.69%        67.79     B        B5  ...                NaN   \n",
       "\n",
       "  num_tl_op_past_12m pct_tl_nvr_dlq  percent_bc_gt_75 pub_rec_bankruptcies  \\\n",
       "0                NaN            NaN               NaN                  0.0   \n",
       "1                NaN            NaN               NaN                  0.0   \n",
       "2                NaN            NaN               NaN                  0.0   \n",
       "3                NaN            NaN               NaN                  0.0   \n",
       "4                NaN            NaN               NaN                  0.0   \n",
       "\n",
       "  tax_liens tot_hi_cred_lim total_bal_ex_mort total_bc_limit  \\\n",
       "0       0.0             NaN               NaN            NaN   \n",
       "1       0.0             NaN               NaN            NaN   \n",
       "2       0.0             NaN               NaN            NaN   \n",
       "3       0.0             NaN               NaN            NaN   \n",
       "4       0.0             NaN               NaN            NaN   \n",
       "\n",
       "  total_il_high_credit_limit  \n",
       "0                        NaN  \n",
       "1                        NaN  \n",
       "2                        NaN  \n",
       "3                        NaN  \n",
       "4                        NaN  \n",
       "\n",
       "[5 rows x 111 columns]"
      ]
     },
     "execution_count": 2,
     "metadata": {},
     "output_type": "execute_result"
    }
   ],
   "source": [
    "#READING THE DATA\n",
    "loan_data = pd.read_csv(\"D:\\mca\\pg\\lending_club\\loan.csv\")\n",
    "loan_data.head()"
   ]
  },
  {
   "cell_type": "code",
   "execution_count": 3,
   "id": "fa10cf5d",
   "metadata": {},
   "outputs": [
    {
     "data": {
      "text/plain": [
       "(39717, 111)"
      ]
     },
     "execution_count": 3,
     "metadata": {},
     "output_type": "execute_result"
    }
   ],
   "source": [
    "#CHECKING THE SHAPE OF DATA\n",
    "loan_data.shape\n"
   ]
  },
  {
   "cell_type": "code",
   "execution_count": 4,
   "id": "375d5a8f",
   "metadata": {},
   "outputs": [
    {
     "data": {
      "text/plain": [
       "id                                0\n",
       "member_id                         0\n",
       "loan_amnt                         0\n",
       "funded_amnt                       0\n",
       "funded_amnt_inv                   0\n",
       "                              ...  \n",
       "tax_liens                        39\n",
       "tot_hi_cred_lim               39717\n",
       "total_bal_ex_mort             39717\n",
       "total_bc_limit                39717\n",
       "total_il_high_credit_limit    39717\n",
       "Length: 111, dtype: int64"
      ]
     },
     "execution_count": 4,
     "metadata": {},
     "output_type": "execute_result"
    }
   ],
   "source": [
    "#CHECKING FOR NULL VALUES\n",
    "loan_data.isnull().sum()"
   ]
  },
  {
   "cell_type": "markdown",
   "id": "ab214ea8",
   "metadata": {},
   "source": [
    "# IT CAN BE SEEN THAT THERE ARE A LOTS OF NULL VALUES.\n",
    "**IN THIS CASE THERE'S NO OTHER WAY TO FILL IN THOSE VALUES.\n",
    "SO WE ARE GOING TO REMOVE THEM."
   ]
  },
  {
   "cell_type": "code",
   "execution_count": 5,
   "id": "8fc2d907",
   "metadata": {},
   "outputs": [
    {
     "data": {
      "text/html": [
       "<div>\n",
       "<style scoped>\n",
       "    .dataframe tbody tr th:only-of-type {\n",
       "        vertical-align: middle;\n",
       "    }\n",
       "\n",
       "    .dataframe tbody tr th {\n",
       "        vertical-align: top;\n",
       "    }\n",
       "\n",
       "    .dataframe thead th {\n",
       "        text-align: right;\n",
       "    }\n",
       "</style>\n",
       "<table border=\"1\" class=\"dataframe\">\n",
       "  <thead>\n",
       "    <tr style=\"text-align: right;\">\n",
       "      <th></th>\n",
       "      <th>id</th>\n",
       "      <th>member_id</th>\n",
       "      <th>loan_amnt</th>\n",
       "      <th>funded_amnt</th>\n",
       "      <th>funded_amnt_inv</th>\n",
       "      <th>term</th>\n",
       "      <th>int_rate</th>\n",
       "      <th>installment</th>\n",
       "      <th>grade</th>\n",
       "      <th>sub_grade</th>\n",
       "      <th>...</th>\n",
       "      <th>next_pymnt_d</th>\n",
       "      <th>last_credit_pull_d</th>\n",
       "      <th>collections_12_mths_ex_med</th>\n",
       "      <th>policy_code</th>\n",
       "      <th>application_type</th>\n",
       "      <th>acc_now_delinq</th>\n",
       "      <th>chargeoff_within_12_mths</th>\n",
       "      <th>delinq_amnt</th>\n",
       "      <th>pub_rec_bankruptcies</th>\n",
       "      <th>tax_liens</th>\n",
       "    </tr>\n",
       "  </thead>\n",
       "  <tbody>\n",
       "    <tr>\n",
       "      <th>0</th>\n",
       "      <td>1077501</td>\n",
       "      <td>1296599</td>\n",
       "      <td>5000</td>\n",
       "      <td>5000</td>\n",
       "      <td>4975.0</td>\n",
       "      <td>36 months</td>\n",
       "      <td>10.65%</td>\n",
       "      <td>162.87</td>\n",
       "      <td>B</td>\n",
       "      <td>B2</td>\n",
       "      <td>...</td>\n",
       "      <td>NaN</td>\n",
       "      <td>May-16</td>\n",
       "      <td>0.0</td>\n",
       "      <td>1</td>\n",
       "      <td>INDIVIDUAL</td>\n",
       "      <td>0</td>\n",
       "      <td>0.0</td>\n",
       "      <td>0</td>\n",
       "      <td>0.0</td>\n",
       "      <td>0.0</td>\n",
       "    </tr>\n",
       "    <tr>\n",
       "      <th>1</th>\n",
       "      <td>1077430</td>\n",
       "      <td>1314167</td>\n",
       "      <td>2500</td>\n",
       "      <td>2500</td>\n",
       "      <td>2500.0</td>\n",
       "      <td>60 months</td>\n",
       "      <td>15.27%</td>\n",
       "      <td>59.83</td>\n",
       "      <td>C</td>\n",
       "      <td>C4</td>\n",
       "      <td>...</td>\n",
       "      <td>NaN</td>\n",
       "      <td>Sep-13</td>\n",
       "      <td>0.0</td>\n",
       "      <td>1</td>\n",
       "      <td>INDIVIDUAL</td>\n",
       "      <td>0</td>\n",
       "      <td>0.0</td>\n",
       "      <td>0</td>\n",
       "      <td>0.0</td>\n",
       "      <td>0.0</td>\n",
       "    </tr>\n",
       "    <tr>\n",
       "      <th>2</th>\n",
       "      <td>1077175</td>\n",
       "      <td>1313524</td>\n",
       "      <td>2400</td>\n",
       "      <td>2400</td>\n",
       "      <td>2400.0</td>\n",
       "      <td>36 months</td>\n",
       "      <td>15.96%</td>\n",
       "      <td>84.33</td>\n",
       "      <td>C</td>\n",
       "      <td>C5</td>\n",
       "      <td>...</td>\n",
       "      <td>NaN</td>\n",
       "      <td>May-16</td>\n",
       "      <td>0.0</td>\n",
       "      <td>1</td>\n",
       "      <td>INDIVIDUAL</td>\n",
       "      <td>0</td>\n",
       "      <td>0.0</td>\n",
       "      <td>0</td>\n",
       "      <td>0.0</td>\n",
       "      <td>0.0</td>\n",
       "    </tr>\n",
       "    <tr>\n",
       "      <th>3</th>\n",
       "      <td>1076863</td>\n",
       "      <td>1277178</td>\n",
       "      <td>10000</td>\n",
       "      <td>10000</td>\n",
       "      <td>10000.0</td>\n",
       "      <td>36 months</td>\n",
       "      <td>13.49%</td>\n",
       "      <td>339.31</td>\n",
       "      <td>C</td>\n",
       "      <td>C1</td>\n",
       "      <td>...</td>\n",
       "      <td>NaN</td>\n",
       "      <td>Apr-16</td>\n",
       "      <td>0.0</td>\n",
       "      <td>1</td>\n",
       "      <td>INDIVIDUAL</td>\n",
       "      <td>0</td>\n",
       "      <td>0.0</td>\n",
       "      <td>0</td>\n",
       "      <td>0.0</td>\n",
       "      <td>0.0</td>\n",
       "    </tr>\n",
       "    <tr>\n",
       "      <th>4</th>\n",
       "      <td>1075358</td>\n",
       "      <td>1311748</td>\n",
       "      <td>3000</td>\n",
       "      <td>3000</td>\n",
       "      <td>3000.0</td>\n",
       "      <td>60 months</td>\n",
       "      <td>12.69%</td>\n",
       "      <td>67.79</td>\n",
       "      <td>B</td>\n",
       "      <td>B5</td>\n",
       "      <td>...</td>\n",
       "      <td>Jun-16</td>\n",
       "      <td>May-16</td>\n",
       "      <td>0.0</td>\n",
       "      <td>1</td>\n",
       "      <td>INDIVIDUAL</td>\n",
       "      <td>0</td>\n",
       "      <td>0.0</td>\n",
       "      <td>0</td>\n",
       "      <td>0.0</td>\n",
       "      <td>0.0</td>\n",
       "    </tr>\n",
       "  </tbody>\n",
       "</table>\n",
       "<p>5 rows × 57 columns</p>\n",
       "</div>"
      ],
      "text/plain": [
       "        id  member_id  loan_amnt  funded_amnt  funded_amnt_inv        term  \\\n",
       "0  1077501    1296599       5000         5000           4975.0   36 months   \n",
       "1  1077430    1314167       2500         2500           2500.0   60 months   \n",
       "2  1077175    1313524       2400         2400           2400.0   36 months   \n",
       "3  1076863    1277178      10000        10000          10000.0   36 months   \n",
       "4  1075358    1311748       3000         3000           3000.0   60 months   \n",
       "\n",
       "  int_rate  installment grade sub_grade  ... next_pymnt_d last_credit_pull_d  \\\n",
       "0   10.65%       162.87     B        B2  ...          NaN             May-16   \n",
       "1   15.27%        59.83     C        C4  ...          NaN             Sep-13   \n",
       "2   15.96%        84.33     C        C5  ...          NaN             May-16   \n",
       "3   13.49%       339.31     C        C1  ...          NaN             Apr-16   \n",
       "4   12.69%        67.79     B        B5  ...       Jun-16             May-16   \n",
       "\n",
       "  collections_12_mths_ex_med  policy_code application_type acc_now_delinq  \\\n",
       "0                        0.0            1       INDIVIDUAL              0   \n",
       "1                        0.0            1       INDIVIDUAL              0   \n",
       "2                        0.0            1       INDIVIDUAL              0   \n",
       "3                        0.0            1       INDIVIDUAL              0   \n",
       "4                        0.0            1       INDIVIDUAL              0   \n",
       "\n",
       "  chargeoff_within_12_mths delinq_amnt pub_rec_bankruptcies tax_liens  \n",
       "0                      0.0           0                  0.0       0.0  \n",
       "1                      0.0           0                  0.0       0.0  \n",
       "2                      0.0           0                  0.0       0.0  \n",
       "3                      0.0           0                  0.0       0.0  \n",
       "4                      0.0           0                  0.0       0.0  \n",
       "\n",
       "[5 rows x 57 columns]"
      ]
     },
     "execution_count": 5,
     "metadata": {},
     "output_type": "execute_result"
    }
   ],
   "source": [
    "loan_data.dropna(axis =1, how='all', inplace= True)\n",
    "loan_data.head()"
   ]
  },
  {
   "cell_type": "markdown",
   "id": "8698fc55",
   "metadata": {},
   "source": [
    "# # There are several columns which are single valued\n",
    "__They are of no use use for our analysis. So we are removing them.__"
   ]
  },
  {
   "cell_type": "code",
   "execution_count": 6,
   "id": "a678042d",
   "metadata": {},
   "outputs": [
    {
     "data": {
      "text/html": [
       "<div>\n",
       "<style scoped>\n",
       "    .dataframe tbody tr th:only-of-type {\n",
       "        vertical-align: middle;\n",
       "    }\n",
       "\n",
       "    .dataframe tbody tr th {\n",
       "        vertical-align: top;\n",
       "    }\n",
       "\n",
       "    .dataframe thead th {\n",
       "        text-align: right;\n",
       "    }\n",
       "</style>\n",
       "<table border=\"1\" class=\"dataframe\">\n",
       "  <thead>\n",
       "    <tr style=\"text-align: right;\">\n",
       "      <th></th>\n",
       "      <th>id</th>\n",
       "      <th>member_id</th>\n",
       "      <th>loan_amnt</th>\n",
       "      <th>funded_amnt</th>\n",
       "      <th>funded_amnt_inv</th>\n",
       "      <th>term</th>\n",
       "      <th>int_rate</th>\n",
       "      <th>installment</th>\n",
       "      <th>grade</th>\n",
       "      <th>sub_grade</th>\n",
       "      <th>...</th>\n",
       "      <th>total_rec_prncp</th>\n",
       "      <th>total_rec_int</th>\n",
       "      <th>total_rec_late_fee</th>\n",
       "      <th>recoveries</th>\n",
       "      <th>collection_recovery_fee</th>\n",
       "      <th>last_pymnt_d</th>\n",
       "      <th>last_pymnt_amnt</th>\n",
       "      <th>next_pymnt_d</th>\n",
       "      <th>last_credit_pull_d</th>\n",
       "      <th>chargeoff_within_12_mths</th>\n",
       "    </tr>\n",
       "  </thead>\n",
       "  <tbody>\n",
       "    <tr>\n",
       "      <th>0</th>\n",
       "      <td>1077501</td>\n",
       "      <td>1296599</td>\n",
       "      <td>5000</td>\n",
       "      <td>5000</td>\n",
       "      <td>4975.0</td>\n",
       "      <td>36 months</td>\n",
       "      <td>10.65%</td>\n",
       "      <td>162.87</td>\n",
       "      <td>B</td>\n",
       "      <td>B2</td>\n",
       "      <td>...</td>\n",
       "      <td>5000.00</td>\n",
       "      <td>863.16</td>\n",
       "      <td>0.00</td>\n",
       "      <td>0.00</td>\n",
       "      <td>0.00</td>\n",
       "      <td>Jan-15</td>\n",
       "      <td>171.62</td>\n",
       "      <td>NaN</td>\n",
       "      <td>May-16</td>\n",
       "      <td>0.0</td>\n",
       "    </tr>\n",
       "    <tr>\n",
       "      <th>1</th>\n",
       "      <td>1077430</td>\n",
       "      <td>1314167</td>\n",
       "      <td>2500</td>\n",
       "      <td>2500</td>\n",
       "      <td>2500.0</td>\n",
       "      <td>60 months</td>\n",
       "      <td>15.27%</td>\n",
       "      <td>59.83</td>\n",
       "      <td>C</td>\n",
       "      <td>C4</td>\n",
       "      <td>...</td>\n",
       "      <td>456.46</td>\n",
       "      <td>435.17</td>\n",
       "      <td>0.00</td>\n",
       "      <td>117.08</td>\n",
       "      <td>1.11</td>\n",
       "      <td>Apr-13</td>\n",
       "      <td>119.66</td>\n",
       "      <td>NaN</td>\n",
       "      <td>Sep-13</td>\n",
       "      <td>0.0</td>\n",
       "    </tr>\n",
       "    <tr>\n",
       "      <th>2</th>\n",
       "      <td>1077175</td>\n",
       "      <td>1313524</td>\n",
       "      <td>2400</td>\n",
       "      <td>2400</td>\n",
       "      <td>2400.0</td>\n",
       "      <td>36 months</td>\n",
       "      <td>15.96%</td>\n",
       "      <td>84.33</td>\n",
       "      <td>C</td>\n",
       "      <td>C5</td>\n",
       "      <td>...</td>\n",
       "      <td>2400.00</td>\n",
       "      <td>605.67</td>\n",
       "      <td>0.00</td>\n",
       "      <td>0.00</td>\n",
       "      <td>0.00</td>\n",
       "      <td>Jun-14</td>\n",
       "      <td>649.91</td>\n",
       "      <td>NaN</td>\n",
       "      <td>May-16</td>\n",
       "      <td>0.0</td>\n",
       "    </tr>\n",
       "    <tr>\n",
       "      <th>3</th>\n",
       "      <td>1076863</td>\n",
       "      <td>1277178</td>\n",
       "      <td>10000</td>\n",
       "      <td>10000</td>\n",
       "      <td>10000.0</td>\n",
       "      <td>36 months</td>\n",
       "      <td>13.49%</td>\n",
       "      <td>339.31</td>\n",
       "      <td>C</td>\n",
       "      <td>C1</td>\n",
       "      <td>...</td>\n",
       "      <td>10000.00</td>\n",
       "      <td>2214.92</td>\n",
       "      <td>16.97</td>\n",
       "      <td>0.00</td>\n",
       "      <td>0.00</td>\n",
       "      <td>Jan-15</td>\n",
       "      <td>357.48</td>\n",
       "      <td>NaN</td>\n",
       "      <td>Apr-16</td>\n",
       "      <td>0.0</td>\n",
       "    </tr>\n",
       "    <tr>\n",
       "      <th>4</th>\n",
       "      <td>1075358</td>\n",
       "      <td>1311748</td>\n",
       "      <td>3000</td>\n",
       "      <td>3000</td>\n",
       "      <td>3000.0</td>\n",
       "      <td>60 months</td>\n",
       "      <td>12.69%</td>\n",
       "      <td>67.79</td>\n",
       "      <td>B</td>\n",
       "      <td>B5</td>\n",
       "      <td>...</td>\n",
       "      <td>2475.94</td>\n",
       "      <td>1037.39</td>\n",
       "      <td>0.00</td>\n",
       "      <td>0.00</td>\n",
       "      <td>0.00</td>\n",
       "      <td>May-16</td>\n",
       "      <td>67.79</td>\n",
       "      <td>Jun-16</td>\n",
       "      <td>May-16</td>\n",
       "      <td>0.0</td>\n",
       "    </tr>\n",
       "  </tbody>\n",
       "</table>\n",
       "<p>5 rows × 48 columns</p>\n",
       "</div>"
      ],
      "text/plain": [
       "        id  member_id  loan_amnt  funded_amnt  funded_amnt_inv        term  \\\n",
       "0  1077501    1296599       5000         5000           4975.0   36 months   \n",
       "1  1077430    1314167       2500         2500           2500.0   60 months   \n",
       "2  1077175    1313524       2400         2400           2400.0   36 months   \n",
       "3  1076863    1277178      10000        10000          10000.0   36 months   \n",
       "4  1075358    1311748       3000         3000           3000.0   60 months   \n",
       "\n",
       "  int_rate  installment grade sub_grade  ... total_rec_prncp total_rec_int  \\\n",
       "0   10.65%       162.87     B        B2  ...         5000.00        863.16   \n",
       "1   15.27%        59.83     C        C4  ...          456.46        435.17   \n",
       "2   15.96%        84.33     C        C5  ...         2400.00        605.67   \n",
       "3   13.49%       339.31     C        C1  ...        10000.00       2214.92   \n",
       "4   12.69%        67.79     B        B5  ...         2475.94       1037.39   \n",
       "\n",
       "  total_rec_late_fee  recoveries collection_recovery_fee last_pymnt_d  \\\n",
       "0               0.00        0.00                    0.00       Jan-15   \n",
       "1               0.00      117.08                    1.11       Apr-13   \n",
       "2               0.00        0.00                    0.00       Jun-14   \n",
       "3              16.97        0.00                    0.00       Jan-15   \n",
       "4               0.00        0.00                    0.00       May-16   \n",
       "\n",
       "  last_pymnt_amnt next_pymnt_d last_credit_pull_d chargeoff_within_12_mths  \n",
       "0          171.62          NaN             May-16                      0.0  \n",
       "1          119.66          NaN             Sep-13                      0.0  \n",
       "2          649.91          NaN             May-16                      0.0  \n",
       "3          357.48          NaN             Apr-16                      0.0  \n",
       "4           67.79       Jun-16             May-16                      0.0  \n",
       "\n",
       "[5 rows x 48 columns]"
      ]
     },
     "execution_count": 6,
     "metadata": {},
     "output_type": "execute_result"
    }
   ],
   "source": [
    "loan_data.drop(['pymnt_plan', \"initial_list_status\",'collections_12_mths_ex_med','policy_code','acc_now_delinq', 'application_type', 'pub_rec_bankruptcies', 'tax_liens', 'delinq_amnt'], axis = 1, inplace = True)\n",
    "loan_data.head()"
   ]
  },
  {
   "cell_type": "markdown",
   "id": "a4cbc78f",
   "metadata": {},
   "source": [
    "### Now we have 48 columns out of which some correspond to the post approval of loan\n",
    "1. We are analyzing the user details and the driving factors of loan defaulting before approving loan. And we'll remove corresponding variables/columns.\n",
    "2. There are still some extra columns like- 'id', 'member_id',\"url\", \"title\", \"emp_title\", \"zip_code\", \"last_credit_pull_d\", \"addr_state\". these are irrelevant and doesn't contribute to our research. So those will be discarded. \n",
    "3. \"desc\" has description which is not needed now.\n",
    "4. \"out_prncp_inv\" , \"total_pymnt_inv \" are useful for investors not for loan.\n",
    "5. \"funded_amnt\" is not needed. We only need to know how much is actual fund for which we have \"funded_amt_inv\".\n",
    "6. Now we have sorted required data and will remove the above mention columns.\n",
    "\n"
   ]
  },
  {
   "cell_type": "code",
   "execution_count": 7,
   "id": "f6156c70",
   "metadata": {},
   "outputs": [],
   "source": [
    "loan_data.drop([\"id\", \"member_id\", \"url\", \"title\", \"emp_title\", \"zip_code\", \"last_credit_pull_d\", \"addr_state\",\"desc\",\"out_prncp_inv\",\"total_pymnt_inv\",\"funded_amnt\", \"delinq_2yrs\", \"revol_bal\", \"out_prncp\", \"total_pymnt\", \"total_rec_prncp\", \"total_rec_int\", \"total_rec_late_fee\", \"recoveries\", \"collection_recovery_fee\", \"last_pymnt_d\", \"last_pymnt_amnt\", \"next_pymnt_d\" , \"chargeoff_within_12_mths\", \"mths_since_last_delinq\", \"mths_since_last_record\"], axis = 1, inplace = True)\n"
   ]
  },
  {
   "cell_type": "code",
   "execution_count": 8,
   "id": "25adc616",
   "metadata": {},
   "outputs": [
    {
     "data": {
      "text/plain": [
       "(39717, 21)"
      ]
     },
     "execution_count": 8,
     "metadata": {},
     "output_type": "execute_result"
    }
   ],
   "source": [
    "loan_data.shape"
   ]
  },
  {
   "cell_type": "markdown",
   "id": "6660debf",
   "metadata": {},
   "source": [
    "# List of Post-approval Features\n",
    "\n",
    "➼delinq_2yrs \n",
    "➼revol_bal \n",
    "➼out_prncp \n",
    "➼total_pymnt \n",
    "➼total_rec_prncp \n",
    "➼total_rec_int \n",
    "➼total_rec_late_fee \n",
    "➼recoveries \n",
    "➼collection_recovery_fee \n",
    "➼last_pymnt_d \n",
    "➼last_pymnt_amnt \n",
    "➼next_pymnt_d \n",
    "➼chargeoff_within_12_mths \n",
    "➼mths_since_last_delinq \n",
    "➼mths_since_last_record "
   ]
  },
  {
   "cell_type": "code",
   "execution_count": 9,
   "id": "5aad47b5",
   "metadata": {},
   "outputs": [
    {
     "data": {
      "text/plain": [
       "Index(['loan_amnt', 'funded_amnt_inv', 'term', 'int_rate', 'installment',\n",
       "       'grade', 'sub_grade', 'emp_length', 'home_ownership', 'annual_inc',\n",
       "       'verification_status', 'issue_d', 'loan_status', 'purpose', 'dti',\n",
       "       'earliest_cr_line', 'inq_last_6mths', 'open_acc', 'pub_rec',\n",
       "       'revol_util', 'total_acc'],\n",
       "      dtype='object')"
      ]
     },
     "execution_count": 9,
     "metadata": {},
     "output_type": "execute_result"
    }
   ],
   "source": [
    "loan_data.columns"
   ]
  },
  {
   "cell_type": "markdown",
   "id": "4762e79c",
   "metadata": {},
   "source": [
    "### We have to predict who is likely to default and that's possible when either the loan is fully paid or charged off.\n",
    "• We cannot make anything for current loans. So, we'll remove current loan status."
   ]
  },
  {
   "cell_type": "code",
   "execution_count": 10,
   "id": "9ce8ca5b",
   "metadata": {},
   "outputs": [
    {
     "data": {
      "text/plain": [
       "array(['Fully Paid', 'Charged Off'], dtype=object)"
      ]
     },
     "execution_count": 10,
     "metadata": {},
     "output_type": "execute_result"
    }
   ],
   "source": [
    "loan_data = loan_data[loan_data.loan_status != \"Current\"]\n",
    "loan_data.loan_status.unique()"
   ]
  },
  {
   "cell_type": "code",
   "execution_count": 11,
   "id": "95b0f509",
   "metadata": {},
   "outputs": [
    {
     "data": {
      "text/plain": [
       "loan_amnt              0.000000\n",
       "funded_amnt_inv        0.000000\n",
       "term                   0.000000\n",
       "int_rate               0.000000\n",
       "installment            0.000000\n",
       "grade                  0.000000\n",
       "sub_grade              0.000000\n",
       "emp_length             2.677761\n",
       "home_ownership         0.000000\n",
       "annual_inc             0.000000\n",
       "verification_status    0.000000\n",
       "issue_d                0.000000\n",
       "loan_status            0.000000\n",
       "purpose                0.000000\n",
       "dti                    0.000000\n",
       "earliest_cr_line       0.000000\n",
       "inq_last_6mths         0.000000\n",
       "open_acc               0.000000\n",
       "pub_rec                0.000000\n",
       "revol_util             0.129611\n",
       "total_acc              0.000000\n",
       "dtype: float64"
      ]
     },
     "execution_count": 11,
     "metadata": {},
     "output_type": "execute_result"
    }
   ],
   "source": [
    "# CHECKING FOR MISSING VALUES\n",
    "(loan_data.isna().sum()/len(loan_data.index))*100"
   ]
  },
  {
   "cell_type": "markdown",
   "id": "84e78582",
   "metadata": {},
   "source": [
    "### Handling missing values\n",
    "• First we'll check the data type of each columns.\n",
    "\n",
    "• Columns with missing values are = emp_length, revol_util.\n"
   ]
  },
  {
   "cell_type": "code",
   "execution_count": 12,
   "id": "98fc093e",
   "metadata": {},
   "outputs": [
    {
     "name": "stdout",
     "output_type": "stream",
     "text": [
      "<class 'pandas.core.frame.DataFrame'>\n",
      "Int64Index: 38577 entries, 0 to 39716\n",
      "Data columns (total 21 columns):\n",
      " #   Column               Non-Null Count  Dtype  \n",
      "---  ------               --------------  -----  \n",
      " 0   loan_amnt            38577 non-null  int64  \n",
      " 1   funded_amnt_inv      38577 non-null  float64\n",
      " 2   term                 38577 non-null  object \n",
      " 3   int_rate             38577 non-null  object \n",
      " 4   installment          38577 non-null  float64\n",
      " 5   grade                38577 non-null  object \n",
      " 6   sub_grade            38577 non-null  object \n",
      " 7   emp_length           37544 non-null  object \n",
      " 8   home_ownership       38577 non-null  object \n",
      " 9   annual_inc           38577 non-null  float64\n",
      " 10  verification_status  38577 non-null  object \n",
      " 11  issue_d              38577 non-null  object \n",
      " 12  loan_status          38577 non-null  object \n",
      " 13  purpose              38577 non-null  object \n",
      " 14  dti                  38577 non-null  float64\n",
      " 15  earliest_cr_line     38577 non-null  object \n",
      " 16  inq_last_6mths       38577 non-null  int64  \n",
      " 17  open_acc             38577 non-null  int64  \n",
      " 18  pub_rec              38577 non-null  int64  \n",
      " 19  revol_util           38527 non-null  object \n",
      " 20  total_acc            38577 non-null  int64  \n",
      "dtypes: float64(4), int64(5), object(12)\n",
      "memory usage: 6.5+ MB\n"
     ]
    }
   ],
   "source": [
    "loan_data.info()"
   ]
  },
  {
   "cell_type": "code",
   "execution_count": 13,
   "id": "c1eb8373",
   "metadata": {},
   "outputs": [
    {
     "name": "stdout",
     "output_type": "stream",
     "text": [
      "Mode- 10+ years\n"
     ]
    },
    {
     "data": {
      "text/plain": [
       "10+ years    8488\n",
       "< 1 year     4508\n",
       "2 years      4291\n",
       "3 years      4012\n",
       "4 years      3342\n",
       "5 years      3194\n",
       "1 year       3169\n",
       "6 years      2168\n",
       "7 years      1711\n",
       "8 years      1435\n",
       "9 years      1226\n",
       "Name: emp_length, dtype: int64"
      ]
     },
     "execution_count": 13,
     "metadata": {},
     "output_type": "execute_result"
    }
   ],
   "source": [
    "print(\"Mode- \"+ loan_data.emp_length.mode()[0])\n",
    "loan_data.emp_length.value_counts()"
   ]
  },
  {
   "cell_type": "code",
   "execution_count": null,
   "id": "e62be95c",
   "metadata": {},
   "outputs": [],
   "source": []
  },
  {
   "cell_type": "markdown",
   "id": "1bc8db32",
   "metadata": {},
   "source": [
    "### The mode value has higher frequency\n",
    "• So, we'll replace NAN value with mode."
   ]
  },
  {
   "cell_type": "code",
   "execution_count": 14,
   "id": "d09ba531",
   "metadata": {},
   "outputs": [
    {
     "data": {
      "text/plain": [
       "0"
      ]
     },
     "execution_count": 14,
     "metadata": {},
     "output_type": "execute_result"
    }
   ],
   "source": [
    "loan_data.emp_length.fillna(loan_data.emp_length.mode()[0], inplace = True)\n",
    "loan_data.emp_length.isna().sum()"
   ]
  },
  {
   "cell_type": "code",
   "execution_count": 15,
   "id": "038d5498",
   "metadata": {},
   "outputs": [
    {
     "data": {
      "text/plain": [
       "0"
      ]
     },
     "execution_count": 15,
     "metadata": {},
     "output_type": "execute_result"
    }
   ],
   "source": [
    "loan_data.dropna(axis = 0, subset = ['revol_util'] , inplace = True)\n",
    "loan_data.revol_util.isna().sum()"
   ]
  },
  {
   "cell_type": "code",
   "execution_count": 16,
   "id": "6b25abcf",
   "metadata": {},
   "outputs": [
    {
     "data": {
      "text/html": [
       "<div>\n",
       "<style scoped>\n",
       "    .dataframe tbody tr th:only-of-type {\n",
       "        vertical-align: middle;\n",
       "    }\n",
       "\n",
       "    .dataframe tbody tr th {\n",
       "        vertical-align: top;\n",
       "    }\n",
       "\n",
       "    .dataframe thead th {\n",
       "        text-align: right;\n",
       "    }\n",
       "</style>\n",
       "<table border=\"1\" class=\"dataframe\">\n",
       "  <thead>\n",
       "    <tr style=\"text-align: right;\">\n",
       "      <th></th>\n",
       "      <th>loan_amnt</th>\n",
       "      <th>funded_amnt_inv</th>\n",
       "      <th>term</th>\n",
       "      <th>int_rate</th>\n",
       "      <th>installment</th>\n",
       "      <th>grade</th>\n",
       "      <th>sub_grade</th>\n",
       "      <th>emp_length</th>\n",
       "      <th>home_ownership</th>\n",
       "      <th>annual_inc</th>\n",
       "      <th>...</th>\n",
       "      <th>issue_d</th>\n",
       "      <th>loan_status</th>\n",
       "      <th>purpose</th>\n",
       "      <th>dti</th>\n",
       "      <th>earliest_cr_line</th>\n",
       "      <th>inq_last_6mths</th>\n",
       "      <th>open_acc</th>\n",
       "      <th>pub_rec</th>\n",
       "      <th>revol_util</th>\n",
       "      <th>total_acc</th>\n",
       "    </tr>\n",
       "  </thead>\n",
       "  <tbody>\n",
       "    <tr>\n",
       "      <th>0</th>\n",
       "      <td>5000</td>\n",
       "      <td>4975.0</td>\n",
       "      <td>36 months</td>\n",
       "      <td>10.65%</td>\n",
       "      <td>162.87</td>\n",
       "      <td>B</td>\n",
       "      <td>B2</td>\n",
       "      <td>10+ years</td>\n",
       "      <td>RENT</td>\n",
       "      <td>24000.0</td>\n",
       "      <td>...</td>\n",
       "      <td>Dec-11</td>\n",
       "      <td>Fully Paid</td>\n",
       "      <td>credit_card</td>\n",
       "      <td>27.65</td>\n",
       "      <td>Jan-85</td>\n",
       "      <td>1</td>\n",
       "      <td>3</td>\n",
       "      <td>0</td>\n",
       "      <td>83.70%</td>\n",
       "      <td>9</td>\n",
       "    </tr>\n",
       "    <tr>\n",
       "      <th>1</th>\n",
       "      <td>2500</td>\n",
       "      <td>2500.0</td>\n",
       "      <td>60 months</td>\n",
       "      <td>15.27%</td>\n",
       "      <td>59.83</td>\n",
       "      <td>C</td>\n",
       "      <td>C4</td>\n",
       "      <td>&lt; 1 year</td>\n",
       "      <td>RENT</td>\n",
       "      <td>30000.0</td>\n",
       "      <td>...</td>\n",
       "      <td>Dec-11</td>\n",
       "      <td>Charged Off</td>\n",
       "      <td>car</td>\n",
       "      <td>1.00</td>\n",
       "      <td>Apr-99</td>\n",
       "      <td>5</td>\n",
       "      <td>3</td>\n",
       "      <td>0</td>\n",
       "      <td>9.40%</td>\n",
       "      <td>4</td>\n",
       "    </tr>\n",
       "    <tr>\n",
       "      <th>2</th>\n",
       "      <td>2400</td>\n",
       "      <td>2400.0</td>\n",
       "      <td>36 months</td>\n",
       "      <td>15.96%</td>\n",
       "      <td>84.33</td>\n",
       "      <td>C</td>\n",
       "      <td>C5</td>\n",
       "      <td>10+ years</td>\n",
       "      <td>RENT</td>\n",
       "      <td>12252.0</td>\n",
       "      <td>...</td>\n",
       "      <td>Dec-11</td>\n",
       "      <td>Fully Paid</td>\n",
       "      <td>small_business</td>\n",
       "      <td>8.72</td>\n",
       "      <td>Nov-01</td>\n",
       "      <td>2</td>\n",
       "      <td>2</td>\n",
       "      <td>0</td>\n",
       "      <td>98.50%</td>\n",
       "      <td>10</td>\n",
       "    </tr>\n",
       "    <tr>\n",
       "      <th>3</th>\n",
       "      <td>10000</td>\n",
       "      <td>10000.0</td>\n",
       "      <td>36 months</td>\n",
       "      <td>13.49%</td>\n",
       "      <td>339.31</td>\n",
       "      <td>C</td>\n",
       "      <td>C1</td>\n",
       "      <td>10+ years</td>\n",
       "      <td>RENT</td>\n",
       "      <td>49200.0</td>\n",
       "      <td>...</td>\n",
       "      <td>Dec-11</td>\n",
       "      <td>Fully Paid</td>\n",
       "      <td>other</td>\n",
       "      <td>20.00</td>\n",
       "      <td>Feb-96</td>\n",
       "      <td>1</td>\n",
       "      <td>10</td>\n",
       "      <td>0</td>\n",
       "      <td>21%</td>\n",
       "      <td>37</td>\n",
       "    </tr>\n",
       "    <tr>\n",
       "      <th>5</th>\n",
       "      <td>5000</td>\n",
       "      <td>5000.0</td>\n",
       "      <td>36 months</td>\n",
       "      <td>7.90%</td>\n",
       "      <td>156.46</td>\n",
       "      <td>A</td>\n",
       "      <td>A4</td>\n",
       "      <td>3 years</td>\n",
       "      <td>RENT</td>\n",
       "      <td>36000.0</td>\n",
       "      <td>...</td>\n",
       "      <td>Dec-11</td>\n",
       "      <td>Fully Paid</td>\n",
       "      <td>wedding</td>\n",
       "      <td>11.20</td>\n",
       "      <td>Nov-04</td>\n",
       "      <td>3</td>\n",
       "      <td>9</td>\n",
       "      <td>0</td>\n",
       "      <td>28.30%</td>\n",
       "      <td>12</td>\n",
       "    </tr>\n",
       "  </tbody>\n",
       "</table>\n",
       "<p>5 rows × 21 columns</p>\n",
       "</div>"
      ],
      "text/plain": [
       "   loan_amnt  funded_amnt_inv        term int_rate  installment grade  \\\n",
       "0       5000           4975.0   36 months   10.65%       162.87     B   \n",
       "1       2500           2500.0   60 months   15.27%        59.83     C   \n",
       "2       2400           2400.0   36 months   15.96%        84.33     C   \n",
       "3      10000          10000.0   36 months   13.49%       339.31     C   \n",
       "5       5000           5000.0   36 months    7.90%       156.46     A   \n",
       "\n",
       "  sub_grade emp_length home_ownership  annual_inc  ... issue_d  loan_status  \\\n",
       "0        B2  10+ years           RENT     24000.0  ...  Dec-11   Fully Paid   \n",
       "1        C4   < 1 year           RENT     30000.0  ...  Dec-11  Charged Off   \n",
       "2        C5  10+ years           RENT     12252.0  ...  Dec-11   Fully Paid   \n",
       "3        C1  10+ years           RENT     49200.0  ...  Dec-11   Fully Paid   \n",
       "5        A4    3 years           RENT     36000.0  ...  Dec-11   Fully Paid   \n",
       "\n",
       "          purpose    dti  earliest_cr_line inq_last_6mths  open_acc  pub_rec  \\\n",
       "0     credit_card  27.65            Jan-85              1         3        0   \n",
       "1             car   1.00            Apr-99              5         3        0   \n",
       "2  small_business   8.72            Nov-01              2         2        0   \n",
       "3           other  20.00            Feb-96              1        10        0   \n",
       "5         wedding  11.20            Nov-04              3         9        0   \n",
       "\n",
       "   revol_util total_acc  \n",
       "0      83.70%         9  \n",
       "1       9.40%         4  \n",
       "2      98.50%        10  \n",
       "3         21%        37  \n",
       "5      28.30%        12  \n",
       "\n",
       "[5 rows x 21 columns]"
      ]
     },
     "execution_count": 16,
     "metadata": {},
     "output_type": "execute_result"
    }
   ],
   "source": [
    "loan_data.head()"
   ]
  },
  {
   "cell_type": "markdown",
   "id": "bc378b86",
   "metadata": {},
   "source": [
    "### Fixing data types of columns:\n",
    "• Columns \"revol_util\" and \"int_rate\" are described as 'object' because of % sign. So'll we need to fix it.\n",
    "\n",
    "• In column, \"emp_length\" (<1yaer) is assumed as0, and 10+years as 10.\n",
    "\n",
    "• Column \"term\" can be declared as categorical variable. As there's only two variables in it {\"36 months\" or \"60 months\"}"
   ]
  },
  {
   "cell_type": "code",
   "execution_count": 17,
   "id": "bc7af959",
   "metadata": {},
   "outputs": [],
   "source": [
    "loan_data.revol_util = pd.to_numeric(loan_data.revol_util.apply(lambda x: x.split('%')[0]))"
   ]
  },
  {
   "cell_type": "code",
   "execution_count": 18,
   "id": "7599fe63",
   "metadata": {},
   "outputs": [],
   "source": [
    "loan_data.int_rate = pd.to_numeric(loan_data.int_rate.apply(lambda x: x.split('%')[0]))"
   ]
  },
  {
   "cell_type": "code",
   "execution_count": 19,
   "id": "ff8d3844",
   "metadata": {},
   "outputs": [],
   "source": [
    "loan_data.emp_length = pd.to_numeric(loan_data.emp_length.apply(lambda x:0 if \"<\"in x else (x.split('+')[0] if \"+\" in x else x.split()[0])))"
   ]
  },
  {
   "cell_type": "code",
   "execution_count": 20,
   "id": "2b23827b",
   "metadata": {},
   "outputs": [
    {
     "data": {
      "text/html": [
       "<div>\n",
       "<style scoped>\n",
       "    .dataframe tbody tr th:only-of-type {\n",
       "        vertical-align: middle;\n",
       "    }\n",
       "\n",
       "    .dataframe tbody tr th {\n",
       "        vertical-align: top;\n",
       "    }\n",
       "\n",
       "    .dataframe thead th {\n",
       "        text-align: right;\n",
       "    }\n",
       "</style>\n",
       "<table border=\"1\" class=\"dataframe\">\n",
       "  <thead>\n",
       "    <tr style=\"text-align: right;\">\n",
       "      <th></th>\n",
       "      <th>loan_amnt</th>\n",
       "      <th>funded_amnt_inv</th>\n",
       "      <th>term</th>\n",
       "      <th>int_rate</th>\n",
       "      <th>installment</th>\n",
       "      <th>grade</th>\n",
       "      <th>sub_grade</th>\n",
       "      <th>emp_length</th>\n",
       "      <th>home_ownership</th>\n",
       "      <th>annual_inc</th>\n",
       "      <th>...</th>\n",
       "      <th>issue_d</th>\n",
       "      <th>loan_status</th>\n",
       "      <th>purpose</th>\n",
       "      <th>dti</th>\n",
       "      <th>earliest_cr_line</th>\n",
       "      <th>inq_last_6mths</th>\n",
       "      <th>open_acc</th>\n",
       "      <th>pub_rec</th>\n",
       "      <th>revol_util</th>\n",
       "      <th>total_acc</th>\n",
       "    </tr>\n",
       "  </thead>\n",
       "  <tbody>\n",
       "    <tr>\n",
       "      <th>0</th>\n",
       "      <td>5000</td>\n",
       "      <td>4975.0</td>\n",
       "      <td>36 months</td>\n",
       "      <td>10.65</td>\n",
       "      <td>162.87</td>\n",
       "      <td>B</td>\n",
       "      <td>B2</td>\n",
       "      <td>10</td>\n",
       "      <td>RENT</td>\n",
       "      <td>24000.0</td>\n",
       "      <td>...</td>\n",
       "      <td>Dec-11</td>\n",
       "      <td>Fully Paid</td>\n",
       "      <td>credit_card</td>\n",
       "      <td>27.65</td>\n",
       "      <td>Jan-85</td>\n",
       "      <td>1</td>\n",
       "      <td>3</td>\n",
       "      <td>0</td>\n",
       "      <td>83.7</td>\n",
       "      <td>9</td>\n",
       "    </tr>\n",
       "    <tr>\n",
       "      <th>1</th>\n",
       "      <td>2500</td>\n",
       "      <td>2500.0</td>\n",
       "      <td>60 months</td>\n",
       "      <td>15.27</td>\n",
       "      <td>59.83</td>\n",
       "      <td>C</td>\n",
       "      <td>C4</td>\n",
       "      <td>0</td>\n",
       "      <td>RENT</td>\n",
       "      <td>30000.0</td>\n",
       "      <td>...</td>\n",
       "      <td>Dec-11</td>\n",
       "      <td>Charged Off</td>\n",
       "      <td>car</td>\n",
       "      <td>1.00</td>\n",
       "      <td>Apr-99</td>\n",
       "      <td>5</td>\n",
       "      <td>3</td>\n",
       "      <td>0</td>\n",
       "      <td>9.4</td>\n",
       "      <td>4</td>\n",
       "    </tr>\n",
       "    <tr>\n",
       "      <th>2</th>\n",
       "      <td>2400</td>\n",
       "      <td>2400.0</td>\n",
       "      <td>36 months</td>\n",
       "      <td>15.96</td>\n",
       "      <td>84.33</td>\n",
       "      <td>C</td>\n",
       "      <td>C5</td>\n",
       "      <td>10</td>\n",
       "      <td>RENT</td>\n",
       "      <td>12252.0</td>\n",
       "      <td>...</td>\n",
       "      <td>Dec-11</td>\n",
       "      <td>Fully Paid</td>\n",
       "      <td>small_business</td>\n",
       "      <td>8.72</td>\n",
       "      <td>Nov-01</td>\n",
       "      <td>2</td>\n",
       "      <td>2</td>\n",
       "      <td>0</td>\n",
       "      <td>98.5</td>\n",
       "      <td>10</td>\n",
       "    </tr>\n",
       "    <tr>\n",
       "      <th>3</th>\n",
       "      <td>10000</td>\n",
       "      <td>10000.0</td>\n",
       "      <td>36 months</td>\n",
       "      <td>13.49</td>\n",
       "      <td>339.31</td>\n",
       "      <td>C</td>\n",
       "      <td>C1</td>\n",
       "      <td>10</td>\n",
       "      <td>RENT</td>\n",
       "      <td>49200.0</td>\n",
       "      <td>...</td>\n",
       "      <td>Dec-11</td>\n",
       "      <td>Fully Paid</td>\n",
       "      <td>other</td>\n",
       "      <td>20.00</td>\n",
       "      <td>Feb-96</td>\n",
       "      <td>1</td>\n",
       "      <td>10</td>\n",
       "      <td>0</td>\n",
       "      <td>21.0</td>\n",
       "      <td>37</td>\n",
       "    </tr>\n",
       "    <tr>\n",
       "      <th>5</th>\n",
       "      <td>5000</td>\n",
       "      <td>5000.0</td>\n",
       "      <td>36 months</td>\n",
       "      <td>7.90</td>\n",
       "      <td>156.46</td>\n",
       "      <td>A</td>\n",
       "      <td>A4</td>\n",
       "      <td>3</td>\n",
       "      <td>RENT</td>\n",
       "      <td>36000.0</td>\n",
       "      <td>...</td>\n",
       "      <td>Dec-11</td>\n",
       "      <td>Fully Paid</td>\n",
       "      <td>wedding</td>\n",
       "      <td>11.20</td>\n",
       "      <td>Nov-04</td>\n",
       "      <td>3</td>\n",
       "      <td>9</td>\n",
       "      <td>0</td>\n",
       "      <td>28.3</td>\n",
       "      <td>12</td>\n",
       "    </tr>\n",
       "  </tbody>\n",
       "</table>\n",
       "<p>5 rows × 21 columns</p>\n",
       "</div>"
      ],
      "text/plain": [
       "   loan_amnt  funded_amnt_inv        term  int_rate  installment grade  \\\n",
       "0       5000           4975.0   36 months     10.65       162.87     B   \n",
       "1       2500           2500.0   60 months     15.27        59.83     C   \n",
       "2       2400           2400.0   36 months     15.96        84.33     C   \n",
       "3      10000          10000.0   36 months     13.49       339.31     C   \n",
       "5       5000           5000.0   36 months      7.90       156.46     A   \n",
       "\n",
       "  sub_grade  emp_length home_ownership  annual_inc  ... issue_d  loan_status  \\\n",
       "0        B2          10           RENT     24000.0  ...  Dec-11   Fully Paid   \n",
       "1        C4           0           RENT     30000.0  ...  Dec-11  Charged Off   \n",
       "2        C5          10           RENT     12252.0  ...  Dec-11   Fully Paid   \n",
       "3        C1          10           RENT     49200.0  ...  Dec-11   Fully Paid   \n",
       "5        A4           3           RENT     36000.0  ...  Dec-11   Fully Paid   \n",
       "\n",
       "          purpose    dti  earliest_cr_line inq_last_6mths  open_acc  pub_rec  \\\n",
       "0     credit_card  27.65            Jan-85              1         3        0   \n",
       "1             car   1.00            Apr-99              5         3        0   \n",
       "2  small_business   8.72            Nov-01              2         2        0   \n",
       "3           other  20.00            Feb-96              1        10        0   \n",
       "5         wedding  11.20            Nov-04              3         9        0   \n",
       "\n",
       "   revol_util  total_acc  \n",
       "0        83.7          9  \n",
       "1         9.4          4  \n",
       "2        98.5         10  \n",
       "3        21.0         37  \n",
       "5        28.3         12  \n",
       "\n",
       "[5 rows x 21 columns]"
      ]
     },
     "execution_count": 20,
     "metadata": {},
     "output_type": "execute_result"
    }
   ],
   "source": [
    "loan_data.head()"
   ]
  },
  {
   "cell_type": "code",
   "execution_count": 21,
   "id": "fb04a14f",
   "metadata": {},
   "outputs": [
    {
     "name": "stderr",
     "output_type": "stream",
     "text": [
      "C:\\Users\\Shweta\\anaconda3\\lib\\site-packages\\seaborn\\_decorators.py:36: FutureWarning: Pass the following variable as a keyword arg: x. From version 0.12, the only valid positional argument will be `data`, and passing other arguments without an explicit keyword will result in an error or misinterpretation.\n",
      "  warnings.warn(\n"
     ]
    },
    {
     "data": {
      "text/plain": [
       "<AxesSubplot:xlabel='annual_inc'>"
      ]
     },
     "execution_count": 21,
     "metadata": {},
     "output_type": "execute_result"
    },
    {
     "data": {
      "image/png": "[encoded data removed]",
      "text/plain": [
       "<Figure size 432x288 with 1 Axes>"
      ]
     },
     "metadata": {
      "needs_background": "light"
     },
     "output_type": "display_data"
    }
   ],
   "source": [
    "#OUTLIER TREATMENT\n",
    "sns.boxplot(loan_data['annual_inc'])"
   ]
  },
  {
   "cell_type": "code",
   "execution_count": 22,
   "id": "b148b11c",
   "metadata": {},
   "outputs": [
    {
     "data": {
      "text/plain": [
       "0.50     59000.0\n",
       "0.75     82000.0\n",
       "0.90    115000.0\n",
       "0.95    140004.0\n",
       "0.97    165000.0\n",
       "0.98    187000.0\n",
       "0.99    234000.0\n",
       "Name: annual_inc, dtype: float64"
      ]
     },
     "execution_count": 22,
     "metadata": {},
     "output_type": "execute_result"
    }
   ],
   "source": [
    "quantile_info = loan_data.annual_inc.quantile([0.5, 0.75,0.90, 0.95, 0.97,0.98, 0.99])\n",
    "quantile_info"
   ]
  },
  {
   "cell_type": "markdown",
   "id": "3b1cebad",
   "metadata": {},
   "source": [
    "### About the outliers\n",
    "➼ Looking at the box plot it is clear the outliers are there.So, will be removing it.\n",
    "\n",
    "➼ Checking the Quantile info, we saw that after 95 percentile it seems to be disconnected as well as there is huge increase of value from 90th to 95th percentile.\n",
    "\n",
    "➼ Removing outliers 0.95"
   ]
  },
  {
   "cell_type": "code",
   "execution_count": 23,
   "id": "d740f9a8",
   "metadata": {},
   "outputs": [
    {
     "data": {
      "text/plain": [
       "0.50     59000.0\n",
       "0.75     82000.0\n",
       "0.95    140004.0\n",
       "0.97    165000.0\n",
       "0.98    187000.0\n",
       "0.99    234000.0\n",
       "Name: annual_inc, dtype: float64"
      ]
     },
     "execution_count": 23,
     "metadata": {},
     "output_type": "execute_result"
    }
   ],
   "source": [
    "quantile_info = loan_data.annual_inc.quantile([0.5,0.75,0.95,0.97,0.98, 0.99])\n",
    "quantile_info"
   ]
  },
  {
   "cell_type": "code",
   "execution_count": 24,
   "id": "5a29a301",
   "metadata": {},
   "outputs": [],
   "source": [
    "per_95_annual_inc = loan_data['annual_inc'].quantile(0.95)\n",
    "loan_data = loan_data[loan_data.annual_inc<=per_95_annual_inc]"
   ]
  },
  {
   "cell_type": "code",
   "execution_count": 25,
   "id": "e0ffac09",
   "metadata": {},
   "outputs": [
    {
     "name": "stderr",
     "output_type": "stream",
     "text": [
      "C:\\Users\\Shweta\\anaconda3\\lib\\site-packages\\seaborn\\_decorators.py:36: FutureWarning: Pass the following variable as a keyword arg: x. From version 0.12, the only valid positional argument will be `data`, and passing other arguments without an explicit keyword will result in an error or misinterpretation.\n",
      "  warnings.warn(\n"
     ]
    },
    {
     "data": {
      "text/plain": [
       "<AxesSubplot:xlabel='annual_inc'>"
      ]
     },
     "execution_count": 25,
     "metadata": {},
     "output_type": "execute_result"
    },
    {
     "data": {
      "image/png": "[encoded data removed]",
      "text/plain": [
       "<Figure size 432x288 with 1 Axes>"
      ]
     },
     "metadata": {
      "needs_background": "light"
     },
     "output_type": "display_data"
    }
   ],
   "source": [
    "sns.boxplot(loan_data.annual_inc)"
   ]
  },
  {
   "cell_type": "markdown",
   "id": "06ea72d6",
   "metadata": {},
   "source": [
    "### Analyzing other numerical variables for outliers.\n",
    "•dti                                                \n",
    "\n",
    "•loan_amnt                              \n",
    "\n",
    "•funded_amnt_inv                                   \n",
    "\n"
   ]
  },
  {
   "cell_type": "code",
   "execution_count": 26,
   "id": "36a9e38b",
   "metadata": {},
   "outputs": [
    {
     "name": "stderr",
     "output_type": "stream",
     "text": [
      "C:\\Users\\Shweta\\anaconda3\\lib\\site-packages\\seaborn\\_decorators.py:36: FutureWarning: Pass the following variable as a keyword arg: x. From version 0.12, the only valid positional argument will be `data`, and passing other arguments without an explicit keyword will result in an error or misinterpretation.\n",
      "  warnings.warn(\n"
     ]
    },
    {
     "data": {
      "text/plain": [
       "<AxesSubplot:xlabel='dti'>"
      ]
     },
     "execution_count": 26,
     "metadata": {},
     "output_type": "execute_result"
    },
    {
     "data": {
      "image/png": "[encoded data removed]",
      "text/plain": [
       "<Figure size 432x288 with 1 Axes>"
      ]
     },
     "metadata": {
      "needs_background": "light"
     },
     "output_type": "display_data"
    }
   ],
   "source": [
    "sns.boxplot(loan_data.dti)"
   ]
  },
  {
   "cell_type": "code",
   "execution_count": 27,
   "id": "5ec63d55",
   "metadata": {},
   "outputs": [
    {
     "name": "stderr",
     "output_type": "stream",
     "text": [
      "C:\\Users\\Shweta\\anaconda3\\lib\\site-packages\\seaborn\\_decorators.py:36: FutureWarning: Pass the following variable as a keyword arg: x. From version 0.12, the only valid positional argument will be `data`, and passing other arguments without an explicit keyword will result in an error or misinterpretation.\n",
      "  warnings.warn(\n"
     ]
    },
    {
     "data": {
      "text/plain": [
       "<AxesSubplot:xlabel='loan_amnt'>"
      ]
     },
     "execution_count": 27,
     "metadata": {},
     "output_type": "execute_result"
    },
    {
     "data": {
      "image/png": "[encoded data removed]",
      "text/plain": [
       "<Figure size 432x288 with 1 Axes>"
      ]
     },
     "metadata": {
      "needs_background": "light"
     },
     "output_type": "display_data"
    }
   ],
   "source": [
    "sns.boxplot(loan_data.loan_amnt)"
   ]
  },
  {
   "cell_type": "code",
   "execution_count": 28,
   "id": "02b2fcc7",
   "metadata": {},
   "outputs": [
    {
     "data": {
      "text/plain": [
       "0.750    15000.0\n",
       "0.900    20000.0\n",
       "0.950    25000.0\n",
       "0.970    25475.0\n",
       "0.975    28000.0\n",
       "0.980    30000.0\n",
       "0.990    35000.0\n",
       "1.000    35000.0\n",
       "Name: loan_amnt, dtype: float64"
      ]
     },
     "execution_count": 28,
     "metadata": {},
     "output_type": "execute_result"
    }
   ],
   "source": [
    "loan_data.loan_amnt.quantile([0.75,0.90,0.95,0.97,0.975,0.98,0.99,1.0])"
   ]
  },
  {
   "cell_type": "code",
   "execution_count": 29,
   "id": "9fbbb58f",
   "metadata": {},
   "outputs": [
    {
     "name": "stderr",
     "output_type": "stream",
     "text": [
      "C:\\Users\\Shweta\\anaconda3\\lib\\site-packages\\seaborn\\_decorators.py:36: FutureWarning: Pass the following variable as a keyword arg: x. From version 0.12, the only valid positional argument will be `data`, and passing other arguments without an explicit keyword will result in an error or misinterpretation.\n",
      "  warnings.warn(\n"
     ]
    },
    {
     "data": {
      "text/plain": [
       "<AxesSubplot:xlabel='funded_amnt_inv'>"
      ]
     },
     "execution_count": 29,
     "metadata": {},
     "output_type": "execute_result"
    },
    {
     "data": {
      "image/png": "[encoded data removed]",
      "text/plain": [
       "<Figure size 432x288 with 1 Axes>"
      ]
     },
     "metadata": {
      "needs_background": "light"
     },
     "output_type": "display_data"
    }
   ],
   "source": [
    "sns.boxplot(loan_data.funded_amnt_inv)"
   ]
  },
  {
   "cell_type": "code",
   "execution_count": 30,
   "id": "a3b7f787",
   "metadata": {},
   "outputs": [
    {
     "data": {
      "text/plain": [
       "0.500     8396.342174\n",
       "0.750    13649.999283\n",
       "0.900    19750.000000\n",
       "0.950    23949.287805\n",
       "0.970    24975.000000\n",
       "0.975    25350.000000\n",
       "0.980    27953.287538\n",
       "0.985    29925.000000\n",
       "0.990    31966.803281\n",
       "1.000    35000.000000\n",
       "Name: funded_amnt_inv, dtype: float64"
      ]
     },
     "execution_count": 30,
     "metadata": {},
     "output_type": "execute_result"
    }
   ],
   "source": [
    "loan_data.funded_amnt_inv.quantile([0.5,0.75,0.90,0.95,0.97,0.975, 0.98,0.985, 0.99, 1.0])"
   ]
  },
  {
   "cell_type": "markdown",
   "id": "2ea2963f",
   "metadata": {},
   "source": [
    "## Visualizing categorical data\n",
    " "
   ]
  },
  {
   "cell_type": "code",
   "execution_count": 31,
   "id": "1a028c97",
   "metadata": {},
   "outputs": [
    {
     "data": {
      "text/plain": [
       "0    2\n",
       "1    4\n",
       "2    5\n",
       "3    1\n",
       "5    4\n",
       "Name: sub_grade, dtype: int64"
      ]
     },
     "execution_count": 31,
     "metadata": {},
     "output_type": "execute_result"
    }
   ],
   "source": [
    "#Extracting sub_grade variable(int value) from sub_grade column\n",
    "loan_data.sub_grade = pd.to_numeric(loan_data.sub_grade.apply(lambda x: x[-1]))\n",
    "loan_data.sub_grade.head()"
   ]
  },
  {
   "cell_type": "code",
   "execution_count": 32,
   "id": "9acf46c3",
   "metadata": {},
   "outputs": [
    {
     "data": {
      "text/plain": [
       "<AxesSubplot:xlabel='grade', ylabel='count'>"
      ]
     },
     "execution_count": 32,
     "metadata": {},
     "output_type": "execute_result"
    },
    {
     "data": {
      "image/png": "[encoded data removed]",
      "text/plain": [
       "<Figure size 864x504 with 1 Axes>"
      ]
     },
     "metadata": {
      "needs_background": "light"
     },
     "output_type": "display_data"
    }
   ],
   "source": [
    "#We are analyzing and visualizing only the defaulter data. So subsetting the data while plotting only for 'Charged Off' loan_status for below plots\n",
    "ax = plt.subplots(figsize=(12,7))\n",
    "sns.set_palette('colorblind')\n",
    "sns.countplot(x = 'grade', order = ['A', 'B', 'C', 'D', 'E', 'F', 'G'] , hue = 'sub_grade',data = loan_data[loan_data.loan_status == 'Charged Off'])\n"
   ]
  },
  {
   "cell_type": "code",
   "execution_count": 33,
   "id": "a2e8c1d2",
   "metadata": {},
   "outputs": [
    {
     "data": {
      "text/plain": [
       "<AxesSubplot:xlabel='grade', ylabel='count'>"
      ]
     },
     "execution_count": 33,
     "metadata": {},
     "output_type": "execute_result"
    },
    {
     "data": {
      "image/png": "[encoded data removed]",
      "text/plain": [
       "<Figure size 432x288 with 1 Axes>"
      ]
     },
     "metadata": {
      "needs_background": "light"
     },
     "output_type": "display_data"
    }
   ],
   "source": [
    "sns.countplot(x = 'grade', data = loan_data[loan_data.loan_status == 'Charged Off'], order = ['A', 'B', 'C', 'D', 'E', 'F', 'G'])\n"
   ]
  },
  {
   "cell_type": "markdown",
   "id": "ea1695b7",
   "metadata": {},
   "source": [
    "## Analyzing home_ownership"
   ]
  },
  {
   "cell_type": "code",
   "execution_count": 34,
   "id": "e96e9373",
   "metadata": {},
   "outputs": [
    {
     "data": {
      "text/plain": [
       "array(['RENT', 'OWN', 'MORTGAGE', 'OTHER', 'NONE'], dtype=object)"
      ]
     },
     "execution_count": 34,
     "metadata": {},
     "output_type": "execute_result"
    }
   ],
   "source": [
    "#checking unique values for home_ownership\n",
    "loan_data['home_ownership'].unique()"
   ]
  },
  {
   "cell_type": "code",
   "execution_count": 35,
   "id": "e6ee02fa",
   "metadata": {},
   "outputs": [],
   "source": [
    "#Replacing 'NONE'with 'OTHERS'\n",
    "loan_data['home_ownership'].replace(to_replace=['NONE'], value ='OTHER',inplace = True)\n"
   ]
  },
  {
   "cell_type": "code",
   "execution_count": 36,
   "id": "23522d1e",
   "metadata": {},
   "outputs": [
    {
     "data": {
      "text/plain": [
       "array(['RENT', 'OWN', 'MORTGAGE', 'OTHER'], dtype=object)"
      ]
     },
     "execution_count": 36,
     "metadata": {},
     "output_type": "execute_result"
    }
   ],
   "source": [
    "#checking unique values again\n",
    "loan_data['home_ownership'].unique()"
   ]
  },
  {
   "cell_type": "code",
   "execution_count": 37,
   "id": "fe5fd5eb",
   "metadata": {},
   "outputs": [
    {
     "data": {
      "text/plain": [
       "<AxesSubplot:xlabel='home_ownership', ylabel='count'>"
      ]
     },
     "execution_count": 37,
     "metadata": {},
     "output_type": "execute_result"
    },
    {
     "data": {
      "image/png": "[encoded data removed]",
      "text/plain": [
       "<Figure size 432x288 with 1 Axes>"
      ]
     },
     "metadata": {
      "needs_background": "light"
     },
     "output_type": "display_data"
    }
   ],
   "source": [
    "fig, ay= plt.subplots(figsize = (6,4))\n",
    "ay.set(yscale = 'log')\n",
    "sns.countplot(x='home_ownership', data=loan_data[loan_data['loan_status']=='Charged Off'])\n"
   ]
  },
  {
   "cell_type": "markdown",
   "id": "06e38ca0",
   "metadata": {},
   "source": [
    "## Analyzing purpose"
   ]
  },
  {
   "cell_type": "code",
   "execution_count": 38,
   "id": "2a79dc24",
   "metadata": {},
   "outputs": [
    {
     "data": {
      "text/plain": [
       "<AxesSubplot:xlabel='count', ylabel='purpose'>"
      ]
     },
     "execution_count": 38,
     "metadata": {},
     "output_type": "execute_result"
    },
    {
     "data": {
      "image/png": "[encoded data removed]",
      "text/plain": [
       "<Figure size 864x576 with 1 Axes>"
      ]
     },
     "metadata": {
      "needs_background": "light"
     },
     "output_type": "display_data"
    }
   ],
   "source": [
    "fig, ax =plt.subplots(figsize =(12,8))\n",
    "ax.set(xscale='log')\n",
    "sns.countplot(y ='purpose', data =loan_data[loan_data.loan_status=='Charged Off'])"
   ]
  },
  {
   "cell_type": "code",
   "execution_count": 39,
   "id": "33ca91fb",
   "metadata": {},
   "outputs": [],
   "source": [
    "# CREATING BINS FOR SOME NUMERICAL VARIABLE TO MAKE THEM CATEGORICAL\n",
    "loan_data['int_rate_groups'] = pd.cut(loan_data['int_rate'], bins=5,precision =0,labels=['5%-9%','9%-13%','13%-17%','17%-21%','21%-24%'])\n",
    "loan_data['open_acc_groups'] = pd.cut(loan_data['open_acc'],bins = 5,precision =0,labels=['2-10','10-19','19-27','27-36','36-44'])\n",
    "loan_data['revol_util_groups'] = pd.cut(loan_data['revol_util'], bins=5,precision =0,labels=['0-20','20-40','40-60','60-80','80-100'])\n",
    "loan_data['total_acc_groups'] = pd.cut(loan_data['total_acc'], bins=5,precision =0,labels=['2-20','20-37','37-55','55-74','74-90'])\n",
    "loan_data['annual_inc_groups'] = pd.cut(loan_data['annual_inc'], bins=5,precision =0,labels =['3k-31k','31k-58k','58k-85k','85k-112k','112k-140k'])"
   ]
  },
  {
   "cell_type": "code",
   "execution_count": 40,
   "id": "bc6e8475",
   "metadata": {},
   "outputs": [
    {
     "data": {
      "text/html": [
       "<div>\n",
       "<style scoped>\n",
       "    .dataframe tbody tr th:only-of-type {\n",
       "        vertical-align: middle;\n",
       "    }\n",
       "\n",
       "    .dataframe tbody tr th {\n",
       "        vertical-align: top;\n",
       "    }\n",
       "\n",
       "    .dataframe thead th {\n",
       "        text-align: right;\n",
       "    }\n",
       "</style>\n",
       "<table border=\"1\" class=\"dataframe\">\n",
       "  <thead>\n",
       "    <tr style=\"text-align: right;\">\n",
       "      <th></th>\n",
       "      <th>loan_amnt</th>\n",
       "      <th>funded_amnt_inv</th>\n",
       "      <th>term</th>\n",
       "      <th>int_rate</th>\n",
       "      <th>installment</th>\n",
       "      <th>grade</th>\n",
       "      <th>sub_grade</th>\n",
       "      <th>emp_length</th>\n",
       "      <th>home_ownership</th>\n",
       "      <th>annual_inc</th>\n",
       "      <th>...</th>\n",
       "      <th>inq_last_6mths</th>\n",
       "      <th>open_acc</th>\n",
       "      <th>pub_rec</th>\n",
       "      <th>revol_util</th>\n",
       "      <th>total_acc</th>\n",
       "      <th>int_rate_groups</th>\n",
       "      <th>open_acc_groups</th>\n",
       "      <th>revol_util_groups</th>\n",
       "      <th>total_acc_groups</th>\n",
       "      <th>annual_inc_groups</th>\n",
       "    </tr>\n",
       "  </thead>\n",
       "  <tbody>\n",
       "    <tr>\n",
       "      <th>0</th>\n",
       "      <td>5000</td>\n",
       "      <td>4975.0</td>\n",
       "      <td>36 months</td>\n",
       "      <td>10.65</td>\n",
       "      <td>162.87</td>\n",
       "      <td>B</td>\n",
       "      <td>2</td>\n",
       "      <td>10</td>\n",
       "      <td>RENT</td>\n",
       "      <td>24000.0</td>\n",
       "      <td>...</td>\n",
       "      <td>1</td>\n",
       "      <td>3</td>\n",
       "      <td>0</td>\n",
       "      <td>83.7</td>\n",
       "      <td>9</td>\n",
       "      <td>9%-13%</td>\n",
       "      <td>2-10</td>\n",
       "      <td>80-100</td>\n",
       "      <td>2-20</td>\n",
       "      <td>3k-31k</td>\n",
       "    </tr>\n",
       "    <tr>\n",
       "      <th>1</th>\n",
       "      <td>2500</td>\n",
       "      <td>2500.0</td>\n",
       "      <td>60 months</td>\n",
       "      <td>15.27</td>\n",
       "      <td>59.83</td>\n",
       "      <td>C</td>\n",
       "      <td>4</td>\n",
       "      <td>0</td>\n",
       "      <td>RENT</td>\n",
       "      <td>30000.0</td>\n",
       "      <td>...</td>\n",
       "      <td>5</td>\n",
       "      <td>3</td>\n",
       "      <td>0</td>\n",
       "      <td>9.4</td>\n",
       "      <td>4</td>\n",
       "      <td>13%-17%</td>\n",
       "      <td>2-10</td>\n",
       "      <td>0-20</td>\n",
       "      <td>2-20</td>\n",
       "      <td>3k-31k</td>\n",
       "    </tr>\n",
       "    <tr>\n",
       "      <th>2</th>\n",
       "      <td>2400</td>\n",
       "      <td>2400.0</td>\n",
       "      <td>36 months</td>\n",
       "      <td>15.96</td>\n",
       "      <td>84.33</td>\n",
       "      <td>C</td>\n",
       "      <td>5</td>\n",
       "      <td>10</td>\n",
       "      <td>RENT</td>\n",
       "      <td>12252.0</td>\n",
       "      <td>...</td>\n",
       "      <td>2</td>\n",
       "      <td>2</td>\n",
       "      <td>0</td>\n",
       "      <td>98.5</td>\n",
       "      <td>10</td>\n",
       "      <td>13%-17%</td>\n",
       "      <td>2-10</td>\n",
       "      <td>80-100</td>\n",
       "      <td>2-20</td>\n",
       "      <td>3k-31k</td>\n",
       "    </tr>\n",
       "    <tr>\n",
       "      <th>3</th>\n",
       "      <td>10000</td>\n",
       "      <td>10000.0</td>\n",
       "      <td>36 months</td>\n",
       "      <td>13.49</td>\n",
       "      <td>339.31</td>\n",
       "      <td>C</td>\n",
       "      <td>1</td>\n",
       "      <td>10</td>\n",
       "      <td>RENT</td>\n",
       "      <td>49200.0</td>\n",
       "      <td>...</td>\n",
       "      <td>1</td>\n",
       "      <td>10</td>\n",
       "      <td>0</td>\n",
       "      <td>21.0</td>\n",
       "      <td>37</td>\n",
       "      <td>13%-17%</td>\n",
       "      <td>2-10</td>\n",
       "      <td>20-40</td>\n",
       "      <td>20-37</td>\n",
       "      <td>31k-58k</td>\n",
       "    </tr>\n",
       "    <tr>\n",
       "      <th>5</th>\n",
       "      <td>5000</td>\n",
       "      <td>5000.0</td>\n",
       "      <td>36 months</td>\n",
       "      <td>7.90</td>\n",
       "      <td>156.46</td>\n",
       "      <td>A</td>\n",
       "      <td>4</td>\n",
       "      <td>3</td>\n",
       "      <td>RENT</td>\n",
       "      <td>36000.0</td>\n",
       "      <td>...</td>\n",
       "      <td>3</td>\n",
       "      <td>9</td>\n",
       "      <td>0</td>\n",
       "      <td>28.3</td>\n",
       "      <td>12</td>\n",
       "      <td>5%-9%</td>\n",
       "      <td>2-10</td>\n",
       "      <td>20-40</td>\n",
       "      <td>2-20</td>\n",
       "      <td>31k-58k</td>\n",
       "    </tr>\n",
       "  </tbody>\n",
       "</table>\n",
       "<p>5 rows × 26 columns</p>\n",
       "</div>"
      ],
      "text/plain": [
       "   loan_amnt  funded_amnt_inv        term  int_rate  installment grade  \\\n",
       "0       5000           4975.0   36 months     10.65       162.87     B   \n",
       "1       2500           2500.0   60 months     15.27        59.83     C   \n",
       "2       2400           2400.0   36 months     15.96        84.33     C   \n",
       "3      10000          10000.0   36 months     13.49       339.31     C   \n",
       "5       5000           5000.0   36 months      7.90       156.46     A   \n",
       "\n",
       "   sub_grade  emp_length home_ownership  annual_inc  ... inq_last_6mths  \\\n",
       "0          2          10           RENT     24000.0  ...              1   \n",
       "1          4           0           RENT     30000.0  ...              5   \n",
       "2          5          10           RENT     12252.0  ...              2   \n",
       "3          1          10           RENT     49200.0  ...              1   \n",
       "5          4           3           RENT     36000.0  ...              3   \n",
       "\n",
       "  open_acc pub_rec revol_util  total_acc int_rate_groups  open_acc_groups  \\\n",
       "0        3       0       83.7          9          9%-13%             2-10   \n",
       "1        3       0        9.4          4         13%-17%             2-10   \n",
       "2        2       0       98.5         10         13%-17%             2-10   \n",
       "3       10       0       21.0         37         13%-17%             2-10   \n",
       "5        9       0       28.3         12           5%-9%             2-10   \n",
       "\n",
       "   revol_util_groups  total_acc_groups  annual_inc_groups  \n",
       "0             80-100              2-20             3k-31k  \n",
       "1               0-20              2-20             3k-31k  \n",
       "2             80-100              2-20             3k-31k  \n",
       "3              20-40             20-37            31k-58k  \n",
       "5              20-40              2-20            31k-58k  \n",
       "\n",
       "[5 rows x 26 columns]"
      ]
     },
     "execution_count": 40,
     "metadata": {},
     "output_type": "execute_result"
    }
   ],
   "source": [
    "loan_data.head()"
   ]
  },
  {
   "cell_type": "code",
   "execution_count": 41,
   "id": "b8d557d4",
   "metadata": {},
   "outputs": [
    {
     "data": {
      "text/plain": [
       "<AxesSubplot:xlabel='emp_length', ylabel='count'>"
      ]
     },
     "execution_count": 41,
     "metadata": {},
     "output_type": "execute_result"
    },
    {
     "data": {
      "image/png": "[encoded data removed]",
      "text/plain": [
       "<Figure size 1080x720 with 2 Axes>"
      ]
     },
     "metadata": {
      "needs_background": "light"
     },
     "output_type": "display_data"
    }
   ],
   "source": [
    "#ANALYZING IINTERST RATE WRT THE INTEREST RATE BINS\n",
    "fig, ax = plt.subplots(figsize = (15,10))\n",
    "plt.subplot(221)\n",
    "sns.countplot(x='int_rate_groups', data=loan_data[loan_data.loan_status == 'Charged Off'])\n",
    "plt.xlabel('Interest Rate')\n",
    "plt.subplot(222)\n",
    "sns.countplot(x='emp_length', data=loan_data[loan_data.loan_status == 'Charged Off'])\n"
   ]
  },
  {
   "cell_type": "code",
   "execution_count": 42,
   "id": "e3c06442",
   "metadata": {},
   "outputs": [
    {
     "data": {
      "text/plain": [
       "<AxesSubplot:xlabel='open_acc_groups', ylabel='count'>"
      ]
     },
     "execution_count": 42,
     "metadata": {},
     "output_type": "execute_result"
    },
    {
     "data": {
      "image/png": "[encoded data removed]",
      "text/plain": [
       "<Figure size 504x360 with 1 Axes>"
      ]
     },
     "metadata": {
      "needs_background": "light"
     },
     "output_type": "display_data"
    }
   ],
   "source": [
    "#SIMILARLY ANALYZING open_acc, revol_util, total_acc, annual_inc\n",
    "fig, ax= plt.subplots(figsize=(7,5))\n",
    "ax.set_yscale('log')\n",
    "sns.countplot(x='open_acc_groups', data=loan_data[loan_data.loan_status=='Charged Off'])"
   ]
  },
  {
   "cell_type": "code",
   "execution_count": 43,
   "id": "949b0aa0",
   "metadata": {},
   "outputs": [
    {
     "data": {
      "text/plain": [
       "<AxesSubplot:xlabel='revol_util_groups', ylabel='count'>"
      ]
     },
     "execution_count": 43,
     "metadata": {},
     "output_type": "execute_result"
    },
    {
     "data": {
      "image/png": "[encoded data removed]",
      "text/plain": [
       "<Figure size 432x288 with 1 Axes>"
      ]
     },
     "metadata": {
      "needs_background": "light"
     },
     "output_type": "display_data"
    }
   ],
   "source": [
    "sns.countplot(x='revol_util_groups', data=loan_data[loan_data.loan_status == 'Charged Off'])\n"
   ]
  },
  {
   "cell_type": "code",
   "execution_count": 44,
   "id": "16a1d046",
   "metadata": {},
   "outputs": [
    {
     "data": {
      "text/plain": [
       "<AxesSubplot:xlabel='total_acc_groups', ylabel='count'>"
      ]
     },
     "execution_count": 44,
     "metadata": {},
     "output_type": "execute_result"
    },
    {
     "data": {
      "image/png": "[encoded data removed]",
      "text/plain": [
       "<Figure size 576x432 with 1 Axes>"
      ]
     },
     "metadata": {
      "needs_background": "light"
     },
     "output_type": "display_data"
    }
   ],
   "source": [
    "fig,ax =plt.subplots(figsize=(8,6))\n",
    "ax.set_yscale('log')\n",
    "sns.countplot(x ='total_acc_groups', data= loan_data[loan_data.loan_status=='Charged Off'])"
   ]
  },
  {
   "cell_type": "code",
   "execution_count": 45,
   "id": "e427e669",
   "metadata": {},
   "outputs": [
    {
     "data": {
      "text/plain": [
       "<AxesSubplot:xlabel='annual_inc_groups', ylabel='count'>"
      ]
     },
     "execution_count": 45,
     "metadata": {},
     "output_type": "execute_result"
    },
    {
     "data": {
      "image/png": "[encoded data removed]",
      "text/plain": [
       "<Figure size 720x432 with 1 Axes>"
      ]
     },
     "metadata": {
      "needs_background": "light"
     },
     "output_type": "display_data"
    }
   ],
   "source": [
    "fig, ax =plt.subplots(figsize=(10,6))\n",
    "sns.countplot(x='annual_inc_groups', data=loan_data[loan_data.loan_status=='Charged Off'])"
   ]
  },
  {
   "cell_type": "code",
   "execution_count": 46,
   "id": "868642d8",
   "metadata": {},
   "outputs": [
    {
     "data": {
      "text/plain": [
       "<AxesSubplot:xlabel='count', ylabel='term'>"
      ]
     },
     "execution_count": 46,
     "metadata": {},
     "output_type": "execute_result"
    },
    {
     "data": {
      "image/png": "[encoded data removed]",
      "text/plain": [
       "<Figure size 432x288 with 1 Axes>"
      ]
     },
     "metadata": {
      "needs_background": "light"
     },
     "output_type": "display_data"
    }
   ],
   "source": [
    "sns.countplot(y ='term', data=loan_data[loan_data.loan_status=='Charged Off'])"
   ]
  },
  {
   "cell_type": "code",
   "execution_count": 47,
   "id": "14a2ae51",
   "metadata": {},
   "outputs": [
    {
     "data": {
      "text/plain": [
       "<AxesSubplot:xlabel='verification_status', ylabel='count'>"
      ]
     },
     "execution_count": 47,
     "metadata": {},
     "output_type": "execute_result"
    },
    {
     "data": {
      "image/png": "[encoded data removed]",
      "text/plain": [
       "<Figure size 432x288 with 1 Axes>"
      ]
     },
     "metadata": {
      "needs_background": "light"
     },
     "output_type": "display_data"
    }
   ],
   "source": [
    "sns.countplot(x='verification_status', data=loan_data[loan_data['loan_status']=='Charged Off'])\n"
   ]
  },
  {
   "cell_type": "code",
   "execution_count": 48,
   "id": "0e50de9b",
   "metadata": {},
   "outputs": [
    {
     "data": {
      "text/plain": [
       "<AxesSubplot:xlabel='inq_last_6mths', ylabel='count'>"
      ]
     },
     "execution_count": 48,
     "metadata": {},
     "output_type": "execute_result"
    },
    {
     "data": {
      "image/png": "[encoded data removed]",
      "text/plain": [
       "<Figure size 720x576 with 1 Axes>"
      ]
     },
     "metadata": {
      "needs_background": "light"
     },
     "output_type": "display_data"
    }
   ],
   "source": [
    "fig, ax=plt.subplots(figsize=(10,8))\n",
    "ax.set_yscale('log')\n",
    "sns.countplot(x = 'inq_last_6mths', data=loan_data[loan_data['loan_status']=='Charged Off'])"
   ]
  },
  {
   "cell_type": "code",
   "execution_count": 49,
   "id": "072c6341",
   "metadata": {},
   "outputs": [
    {
     "data": {
      "text/plain": [
       "<AxesSubplot:xlabel='pub_rec', ylabel='count'>"
      ]
     },
     "execution_count": 49,
     "metadata": {},
     "output_type": "execute_result"
    },
    {
     "data": {
      "image/png": "[encoded data removed]",
      "text/plain": [
       "<Figure size 504x360 with 1 Axes>"
      ]
     },
     "metadata": {
      "needs_background": "light"
     },
     "output_type": "display_data"
    }
   ],
   "source": [
    "fig,ax = plt.subplots(figsize = (7,5))\n",
    "ax.set_yscale('log')\n",
    "sns.countplot(x='pub_rec', data=loan_data[loan_data['loan_status']=='Charged Off'])\n"
   ]
  },
  {
   "cell_type": "markdown",
   "id": "ddbc2a13",
   "metadata": {},
   "source": [
    "## Analyzing by issued month and year"
   ]
  },
  {
   "cell_type": "code",
   "execution_count": 50,
   "id": "cc161bf8",
   "metadata": {},
   "outputs": [],
   "source": [
    "#EXTRACTING MONTH AND YEAR\n",
    "df_month_year = loan_data['issue_d'].str.partition(\"-\", True)     \n",
    "loan_data['issue_month']=df_month_year[0]                       \n",
    "loan_data['issue_year']='20' + df_month_year[2]"
   ]
  },
  {
   "cell_type": "code",
   "execution_count": 51,
   "id": "bfe202e9",
   "metadata": {},
   "outputs": [
    {
     "data": {
      "text/html": [
       "<div>\n",
       "<style scoped>\n",
       "    .dataframe tbody tr th:only-of-type {\n",
       "        vertical-align: middle;\n",
       "    }\n",
       "\n",
       "    .dataframe tbody tr th {\n",
       "        vertical-align: top;\n",
       "    }\n",
       "\n",
       "    .dataframe thead th {\n",
       "        text-align: right;\n",
       "    }\n",
       "</style>\n",
       "<table border=\"1\" class=\"dataframe\">\n",
       "  <thead>\n",
       "    <tr style=\"text-align: right;\">\n",
       "      <th></th>\n",
       "      <th>loan_amnt</th>\n",
       "      <th>funded_amnt_inv</th>\n",
       "      <th>term</th>\n",
       "      <th>int_rate</th>\n",
       "      <th>installment</th>\n",
       "      <th>grade</th>\n",
       "      <th>sub_grade</th>\n",
       "      <th>emp_length</th>\n",
       "      <th>home_ownership</th>\n",
       "      <th>annual_inc</th>\n",
       "      <th>...</th>\n",
       "      <th>pub_rec</th>\n",
       "      <th>revol_util</th>\n",
       "      <th>total_acc</th>\n",
       "      <th>int_rate_groups</th>\n",
       "      <th>open_acc_groups</th>\n",
       "      <th>revol_util_groups</th>\n",
       "      <th>total_acc_groups</th>\n",
       "      <th>annual_inc_groups</th>\n",
       "      <th>issue_month</th>\n",
       "      <th>issue_year</th>\n",
       "    </tr>\n",
       "  </thead>\n",
       "  <tbody>\n",
       "    <tr>\n",
       "      <th>0</th>\n",
       "      <td>5000</td>\n",
       "      <td>4975.0</td>\n",
       "      <td>36 months</td>\n",
       "      <td>10.65</td>\n",
       "      <td>162.87</td>\n",
       "      <td>B</td>\n",
       "      <td>2</td>\n",
       "      <td>10</td>\n",
       "      <td>RENT</td>\n",
       "      <td>24000.0</td>\n",
       "      <td>...</td>\n",
       "      <td>0</td>\n",
       "      <td>83.7</td>\n",
       "      <td>9</td>\n",
       "      <td>9%-13%</td>\n",
       "      <td>2-10</td>\n",
       "      <td>80-100</td>\n",
       "      <td>2-20</td>\n",
       "      <td>3k-31k</td>\n",
       "      <td>Dec</td>\n",
       "      <td>2011</td>\n",
       "    </tr>\n",
       "    <tr>\n",
       "      <th>1</th>\n",
       "      <td>2500</td>\n",
       "      <td>2500.0</td>\n",
       "      <td>60 months</td>\n",
       "      <td>15.27</td>\n",
       "      <td>59.83</td>\n",
       "      <td>C</td>\n",
       "      <td>4</td>\n",
       "      <td>0</td>\n",
       "      <td>RENT</td>\n",
       "      <td>30000.0</td>\n",
       "      <td>...</td>\n",
       "      <td>0</td>\n",
       "      <td>9.4</td>\n",
       "      <td>4</td>\n",
       "      <td>13%-17%</td>\n",
       "      <td>2-10</td>\n",
       "      <td>0-20</td>\n",
       "      <td>2-20</td>\n",
       "      <td>3k-31k</td>\n",
       "      <td>Dec</td>\n",
       "      <td>2011</td>\n",
       "    </tr>\n",
       "    <tr>\n",
       "      <th>2</th>\n",
       "      <td>2400</td>\n",
       "      <td>2400.0</td>\n",
       "      <td>36 months</td>\n",
       "      <td>15.96</td>\n",
       "      <td>84.33</td>\n",
       "      <td>C</td>\n",
       "      <td>5</td>\n",
       "      <td>10</td>\n",
       "      <td>RENT</td>\n",
       "      <td>12252.0</td>\n",
       "      <td>...</td>\n",
       "      <td>0</td>\n",
       "      <td>98.5</td>\n",
       "      <td>10</td>\n",
       "      <td>13%-17%</td>\n",
       "      <td>2-10</td>\n",
       "      <td>80-100</td>\n",
       "      <td>2-20</td>\n",
       "      <td>3k-31k</td>\n",
       "      <td>Dec</td>\n",
       "      <td>2011</td>\n",
       "    </tr>\n",
       "    <tr>\n",
       "      <th>3</th>\n",
       "      <td>10000</td>\n",
       "      <td>10000.0</td>\n",
       "      <td>36 months</td>\n",
       "      <td>13.49</td>\n",
       "      <td>339.31</td>\n",
       "      <td>C</td>\n",
       "      <td>1</td>\n",
       "      <td>10</td>\n",
       "      <td>RENT</td>\n",
       "      <td>49200.0</td>\n",
       "      <td>...</td>\n",
       "      <td>0</td>\n",
       "      <td>21.0</td>\n",
       "      <td>37</td>\n",
       "      <td>13%-17%</td>\n",
       "      <td>2-10</td>\n",
       "      <td>20-40</td>\n",
       "      <td>20-37</td>\n",
       "      <td>31k-58k</td>\n",
       "      <td>Dec</td>\n",
       "      <td>2011</td>\n",
       "    </tr>\n",
       "    <tr>\n",
       "      <th>5</th>\n",
       "      <td>5000</td>\n",
       "      <td>5000.0</td>\n",
       "      <td>36 months</td>\n",
       "      <td>7.90</td>\n",
       "      <td>156.46</td>\n",
       "      <td>A</td>\n",
       "      <td>4</td>\n",
       "      <td>3</td>\n",
       "      <td>RENT</td>\n",
       "      <td>36000.0</td>\n",
       "      <td>...</td>\n",
       "      <td>0</td>\n",
       "      <td>28.3</td>\n",
       "      <td>12</td>\n",
       "      <td>5%-9%</td>\n",
       "      <td>2-10</td>\n",
       "      <td>20-40</td>\n",
       "      <td>2-20</td>\n",
       "      <td>31k-58k</td>\n",
       "      <td>Dec</td>\n",
       "      <td>2011</td>\n",
       "    </tr>\n",
       "  </tbody>\n",
       "</table>\n",
       "<p>5 rows × 28 columns</p>\n",
       "</div>"
      ],
      "text/plain": [
       "   loan_amnt  funded_amnt_inv        term  int_rate  installment grade  \\\n",
       "0       5000           4975.0   36 months     10.65       162.87     B   \n",
       "1       2500           2500.0   60 months     15.27        59.83     C   \n",
       "2       2400           2400.0   36 months     15.96        84.33     C   \n",
       "3      10000          10000.0   36 months     13.49       339.31     C   \n",
       "5       5000           5000.0   36 months      7.90       156.46     A   \n",
       "\n",
       "   sub_grade  emp_length home_ownership  annual_inc  ... pub_rec revol_util  \\\n",
       "0          2          10           RENT     24000.0  ...       0       83.7   \n",
       "1          4           0           RENT     30000.0  ...       0        9.4   \n",
       "2          5          10           RENT     12252.0  ...       0       98.5   \n",
       "3          1          10           RENT     49200.0  ...       0       21.0   \n",
       "5          4           3           RENT     36000.0  ...       0       28.3   \n",
       "\n",
       "  total_acc int_rate_groups  open_acc_groups revol_util_groups  \\\n",
       "0         9          9%-13%             2-10            80-100   \n",
       "1         4         13%-17%             2-10              0-20   \n",
       "2        10         13%-17%             2-10            80-100   \n",
       "3        37         13%-17%             2-10             20-40   \n",
       "5        12           5%-9%             2-10             20-40   \n",
       "\n",
       "   total_acc_groups  annual_inc_groups  issue_month  issue_year  \n",
       "0              2-20             3k-31k          Dec        2011  \n",
       "1              2-20             3k-31k          Dec        2011  \n",
       "2              2-20             3k-31k          Dec        2011  \n",
       "3             20-37            31k-58k          Dec        2011  \n",
       "5              2-20            31k-58k          Dec        2011  \n",
       "\n",
       "[5 rows x 28 columns]"
      ]
     },
     "execution_count": 51,
     "metadata": {},
     "output_type": "execute_result"
    }
   ],
   "source": [
    "loan_data.head()"
   ]
  },
  {
   "cell_type": "code",
   "execution_count": 52,
   "id": "a144be51",
   "metadata": {},
   "outputs": [
    {
     "data": {
      "text/plain": [
       "<AxesSubplot:xlabel='issue_year', ylabel='count'>"
      ]
     },
     "execution_count": 52,
     "metadata": {},
     "output_type": "execute_result"
    },
    {
     "data": {
      "image/png": "[encoded data removed]",
      "text/plain": [
       "<Figure size 1080x1080 with 2 Axes>"
      ]
     },
     "metadata": {
      "needs_background": "light"
     },
     "output_type": "display_data"
    }
   ],
   "source": [
    "plt.figure(figsize=(15,15))\n",
    "plt.subplot(221)\n",
    "sns.countplot(x='issue_month', data=loan_data[loan_data['loan_status']=='Charged Off'])\n",
    "plt.subplot(222)\n",
    "sns.countplot(x='issue_year', data=loan_data[loan_data['loan_status']=='Charged Off'])\n"
   ]
  },
  {
   "cell_type": "markdown",
   "id": "f2c060c2",
   "metadata": {},
   "source": [
    "## Results of above analysis\n",
    "➼ Maximum no. of defaults occured in December.\n",
    "\n",
    "➼ Maximum no. of loans were issued in year 2011."
   ]
  },
  {
   "cell_type": "markdown",
   "id": "82c4bb8d",
   "metadata": {},
   "source": [
    "## Analyzing installment, dti, loan_amnt"
   ]
  },
  {
   "cell_type": "code",
   "execution_count": 53,
   "id": "e5e24a4a",
   "metadata": {},
   "outputs": [],
   "source": [
    "loan_data['installment_groups'] = pd.cut(loan_data['installment'], bins=10,precision =0,labels=['14-145','145-274','274-403','403-531','531-660','660-789','789-918','918-1047','1047-1176','1176-1305'])\n",
    "loan_data['funded_amnt_inv_group'] = pd.cut(loan_data['funded_amnt_inv'], bins=7,labels=['0-5k','5k-10k','10k-15k','15k-20k','20k-25k','25k-30k','30k-35k']) ## bin is starting from -35?\n",
    "loan_data['loan_amnt_groups'] = pd.cut(loan_data['loan_amnt'], bins=7,precision =0,labels=['0-5k','5k-10k','10k-15k','15k-20k','20k-25k','25k-30k','30k-35k'])\n",
    "loan_data['dti_groups'] = pd.cut(loan_data['dti'], bins=5,precision =0,labels=['0-6','6-12','12-18','18-24','24-30'])\n"
   ]
  },
  {
   "cell_type": "code",
   "execution_count": 54,
   "id": "38d2fc95",
   "metadata": {},
   "outputs": [
    {
     "data": {
      "text/plain": [
       "<AxesSubplot:xlabel='funded_amnt_inv_group', ylabel='count'>"
      ]
     },
     "execution_count": 54,
     "metadata": {},
     "output_type": "execute_result"
    },
    {
     "data": {
      "image/png": "[encoded data removed]",
      "text/plain": [
       "<Figure size 864x360 with 1 Axes>"
      ]
     },
     "metadata": {
      "needs_background": "light"
     },
     "output_type": "display_data"
    }
   ],
   "source": [
    "fig, ax = plt.subplots(figsize=(12,5))\n",
    "ax.set_yscale('log')\n",
    "sns.countplot(x='funded_amnt_inv_group', data =loan_data[loan_data['loan_status']=='Charged Off'])"
   ]
  },
  {
   "cell_type": "code",
   "execution_count": 55,
   "id": "2f4e85c3",
   "metadata": {},
   "outputs": [
    {
     "data": {
      "text/plain": [
       "<AxesSubplot:xlabel='loan_amnt_groups', ylabel='count'>"
      ]
     },
     "execution_count": 55,
     "metadata": {},
     "output_type": "execute_result"
    },
    {
     "data": {
      "image/png": "[encoded data removed]",
      "text/plain": [
       "<Figure size 1080x432 with 1 Axes>"
      ]
     },
     "metadata": {
      "needs_background": "light"
     },
     "output_type": "display_data"
    }
   ],
   "source": [
    "fig, ax =plt.subplots(figsize=(15,6))\n",
    "ax.set_yscale('log')\n",
    "sns.countplot(x='loan_amnt_groups',data=loan_data[loan_data['loan_status']=='Charged Off'])"
   ]
  },
  {
   "cell_type": "code",
   "execution_count": 56,
   "id": "551fb66e",
   "metadata": {},
   "outputs": [
    {
     "data": {
      "text/plain": [
       "<AxesSubplot:xlabel='dti_groups', ylabel='count'>"
      ]
     },
     "execution_count": 56,
     "metadata": {},
     "output_type": "execute_result"
    },
    {
     "data": {
      "image/png": "[encoded data removed]",
      "text/plain": [
       "<Figure size 432x288 with 1 Axes>"
      ]
     },
     "metadata": {
      "needs_background": "light"
     },
     "output_type": "display_data"
    }
   ],
   "source": [
    "sns.countplot(x='dti_groups',data=loan_data[loan_data['loan_status']=='Charged Off'])"
   ]
  },
  {
   "cell_type": "code",
   "execution_count": 57,
   "id": "0242f161",
   "metadata": {},
   "outputs": [
    {
     "data": {
      "text/plain": [
       "<AxesSubplot:xlabel='installment_groups', ylabel='count'>"
      ]
     },
     "execution_count": 57,
     "metadata": {},
     "output_type": "execute_result"
    },
    {
     "data": {
      "image/png": "[encoded data removed]",
      "text/plain": [
       "<Figure size 1080x432 with 1 Axes>"
      ]
     },
     "metadata": {
      "needs_background": "light"
     },
     "output_type": "display_data"
    }
   ],
   "source": [
    "fig, ax= plt.subplots(figsize =(15,6))\n",
    "ax.set_yscale('log')\n",
    "sns.countplot(x='installment_groups', data=loan_data[loan_data['loan_status']=='Charged Off'])"
   ]
  },
  {
   "cell_type": "markdown",
   "id": "0bdbc8f4",
   "metadata": {},
   "source": [
    "# OBSERVATIONS\n",
    "### The above analysis shows that there is more probability of defaulting when:\n",
    "\n",
    "\n",
    " ➤ Applicants having house_ownership as 'RENT'\n",
    " \n",
    " ➤ Applicants who use the loan to clear other debts\n",
    "\n",
    "➤ Applicants who recieve interest @ of 13-17%\n",
    "\n",
    "➤ Applicants who have income around 31201-5840\n",
    "\n",
    "➤ Applicants who have 20-37 open_acc\n",
    "\n",
    "➤ Applicants with employement length of 10\n",
    "\n",
    "➤ When amount funded by investor is between 5k-10k\n",
    "\n",
    "➤ Loan amount is between 5429-10357\n",
    "\n",
    "➤ dti is between 12-18\n",
    "\n",
    "➤ When monthly installments are between 145-274\n",
    "\n",
    "➤ Term is of 36 months\n",
    "\n",
    "➤ Loan status is 'Not verified'\n",
    "\n",
    "➤ No. of enquiries in last 6 months is 0\n",
    "\n",
    "➤ When the purpose is 'debt_consolidation'\n",
    "\n",
    "➤ Grade is 'B'\n",
    "\n",
    "➤ Total grade of 'B5' level\n",
    "\n",
    "#### The late months of an year indicated the high possibility of defaulting.\n",
    " ➤ There were high no. of defaults in year 2011, could be due to financial crisis."
   ]
  },
  {
   "cell_type": "markdown",
   "id": "2f9e2b30",
   "metadata": {},
   "source": [
    "# CORRELATION MATRIX"
   ]
  },
  {
   "cell_type": "code",
   "execution_count": 58,
   "id": "1ee3bd68",
   "metadata": {},
   "outputs": [],
   "source": [
    "numeric_columns = ['loan_amnt','funded_amnt_inv','revol_util','emp_length','open_acc','int_rate','installment','annual_inc','dti','pub_rec']"
   ]
  },
  {
   "cell_type": "code",
   "execution_count": 59,
   "id": "fafd299a",
   "metadata": {},
   "outputs": [],
   "source": [
    "correlation_matrix = loan_data[numeric_columns].corr()"
   ]
  },
  {
   "cell_type": "code",
   "execution_count": 60,
   "id": "ca33d22e",
   "metadata": {
    "scrolled": true
   },
   "outputs": [
    {
     "data": {
      "image/png": "[encoded data removed]",
      "text/plain": [
       "<Figure size 720x720 with 2 Axes>"
      ]
     },
     "metadata": {
      "needs_background": "light"
     },
     "output_type": "display_data"
    }
   ],
   "source": [
    "fig, ax =plt.subplots(figsize=(10,10))\n",
    "sns.heatmap(correlation_matrix, xticklabels=correlation_matrix.columns.values,yticklabels= correlation_matrix.columns.values,\n",
    "           cmap= 'coolwarm', annot = True)\n",
    "plt.xticks(rotation=50)\n",
    "plt.show()"
   ]
  },
  {
   "cell_type": "markdown",
   "id": "80a16676",
   "metadata": {},
   "source": [
    "# Analysing annual income with other columns\n",
    "### 1. Annual income Vs loan purpose"
   ]
  },
  {
   "cell_type": "code",
   "execution_count": 61,
   "id": "618af1e2",
   "metadata": {},
   "outputs": [
    {
     "data": {
      "image/png": "[encoded data removed]",
      "text/plain": [
       "<Figure size 720x720 with 1 Axes>"
      ]
     },
     "metadata": {
      "needs_background": "light"
     },
     "output_type": "display_data"
    }
   ],
   "source": [
    "plt.figure(figsize =(10,10))\n",
    "sns.barplot(data=loan_data,x='annual_inc', y='purpose', hue ='loan_status',palette=\"deep\")\n",
    "plt.show() "
   ]
  },
  {
   "cell_type": "markdown",
   "id": "5349d4c8",
   "metadata": {},
   "source": [
    "### 2. Annual income vs home ownership "
   ]
  },
  {
   "cell_type": "code",
   "execution_count": 62,
   "id": "0b0492e1",
   "metadata": {},
   "outputs": [
    {
     "data": {
      "image/png": "[encoded data removed]",
      "text/plain": [
       "<Figure size 720x720 with 1 Axes>"
      ]
     },
     "metadata": {
      "needs_background": "light"
     },
     "output_type": "display_data"
    }
   ],
   "source": [
    "plt.figure(figsize=(10,10))\n",
    "sns.barplot(data = loan_data, x ='home_ownership',y='annual_inc', hue ='loan_status',palette=\"pastel\")\n",
    "plt.show()"
   ]
  },
  {
   "cell_type": "markdown",
   "id": "e4a9a639",
   "metadata": {},
   "source": [
    "### 3. Annual income vs int_rate"
   ]
  },
  {
   "cell_type": "code",
   "execution_count": 63,
   "id": "59bf73f5",
   "metadata": {},
   "outputs": [
    {
     "data": {
      "image/png": "[encoded data removed]",
      "text/plain": [
       "<Figure size 720x720 with 1 Axes>"
      ]
     },
     "metadata": {
      "needs_background": "light"
     },
     "output_type": "display_data"
    }
   ],
   "source": [
    "plt.figure(figsize=(10,10))\n",
    "sns.barplot(data =loan_data,x='int_rate_groups', y='annual_inc', hue ='loan_status',palette=\"pastel\")\n",
    "plt.show()"
   ]
  },
  {
   "cell_type": "markdown",
   "id": "911275bc",
   "metadata": {},
   "source": [
    "# Analysing loan_amount with other columns for more insights\n",
    "\n",
    "### 1. Loan Amount vs Interest rate"
   ]
  },
  {
   "cell_type": "code",
   "execution_count": 64,
   "id": "3c6b0db7",
   "metadata": {},
   "outputs": [
    {
     "data": {
      "image/png": "[encoded data removed]",
      "text/plain": [
       "<Figure size 720x720 with 1 Axes>"
      ]
     },
     "metadata": {
      "needs_background": "light"
     },
     "output_type": "display_data"
    }
   ],
   "source": [
    "plt.figure(figsize=(10,10))\n",
    "sns.barplot(data =loan_data,x='loan_amnt_groups', y='int_rate', hue ='loan_status',palette=\"pastel\")\n",
    "plt.show()"
   ]
  },
  {
   "cell_type": "markdown",
   "id": "b844320f",
   "metadata": {},
   "source": [
    "### 2. Loan vs Loan purpose"
   ]
  },
  {
   "cell_type": "code",
   "execution_count": 65,
   "id": "e5e80599",
   "metadata": {},
   "outputs": [
    {
     "data": {
      "image/png": "[encoded data removed]",
      "text/plain": [
       "<Figure size 720x720 with 1 Axes>"
      ]
     },
     "metadata": {
      "needs_background": "light"
     },
     "output_type": "display_data"
    }
   ],
   "source": [
    "plt.figure(figsize=(10,10))\n",
    "sns.barplot(data =loan_data,x='loan_amnt', y='purpose', hue ='loan_status',palette=\"pastel\")\n",
    "plt.show()"
   ]
  },
  {
   "cell_type": "markdown",
   "id": "c7ad2568",
   "metadata": {},
   "source": [
    "### 3. Loan vs house ownership\n"
   ]
  },
  {
   "cell_type": "code",
   "execution_count": 66,
   "id": "e9d521b6",
   "metadata": {},
   "outputs": [
    {
     "data": {
      "image/png": "[encoded data removed]",
      "text/plain": [
       "<Figure size 720x720 with 1 Axes>"
      ]
     },
     "metadata": {
      "needs_background": "light"
     },
     "output_type": "display_data"
    }
   ],
   "source": [
    "plt.figure(figsize=(10,10))\n",
    "sns.barplot(data =loan_data,x='loan_amnt', y='home_ownership', hue ='loan_status',palette=\"pastel\")\n",
    "plt.show()"
   ]
  },
  {
   "cell_type": "markdown",
   "id": "caafdc86",
   "metadata": {},
   "source": [
    "### 4. Loan amount vs month issued and year issued "
   ]
  },
  {
   "cell_type": "code",
   "execution_count": 67,
   "id": "484517f1",
   "metadata": {},
   "outputs": [
    {
     "data": {
      "text/plain": [
       "<AxesSubplot:xlabel='issue_year', ylabel='loan_amnt'>"
      ]
     },
     "execution_count": 67,
     "metadata": {},
     "output_type": "execute_result"
    },
    {
     "data": {
      "image/png": "[encoded data removed]",
      "text/plain": [
       "<Figure size 1440x1440 with 2 Axes>"
      ]
     },
     "metadata": {
      "needs_background": "light"
     },
     "output_type": "display_data"
    }
   ],
   "source": [
    "plt.figure(figsize=(20,20))\n",
    "plt.subplot(221)\n",
    "sns.lineplot(data =loan_data,y='loan_amnt', x='issue_month', hue ='loan_status',palette=\"pastel\")\n",
    "plt.subplot(222)\n",
    "sns.lineplot(data =loan_data,y='loan_amnt', x='issue_year', hue ='loan_status',palette=\"pastel\")\n"
   ]
  },
  {
   "cell_type": "markdown",
   "id": "0794ecd8",
   "metadata": {},
   "source": [
    "### 5. Loan amount vs grade"
   ]
  },
  {
   "cell_type": "code",
   "execution_count": 68,
   "id": "cb5f5cb1",
   "metadata": {},
   "outputs": [
    {
     "data": {
      "image/png": "[encoded data removed]",
      "text/plain": [
       "<Figure size 720x720 with 1 Axes>"
      ]
     },
     "metadata": {
      "needs_background": "light"
     },
     "output_type": "display_data"
    }
   ],
   "source": [
    "plt.figure(figsize=(10,10))\n",
    "sns.barplot(data =loan_data,x='loan_amnt', y='grade', hue ='loan_status',palette=\"pastel\", order=['A','B','C','D','E','F','G'])\n",
    "plt.show()"
   ]
  },
  {
   "cell_type": "code",
   "execution_count": 69,
   "id": "af1f0374",
   "metadata": {},
   "outputs": [
    {
     "data": {
      "text/plain": [
       "<AxesSubplot:xlabel='verification_status', ylabel='loan_amnt'>"
      ]
     },
     "execution_count": 69,
     "metadata": {},
     "output_type": "execute_result"
    },
    {
     "data": {
      "image/png": "[encoded data removed]",
      "text/plain": [
       "<Figure size 1440x1440 with 2 Axes>"
      ]
     },
     "metadata": {
      "needs_background": "light"
     },
     "output_type": "display_data"
    }
   ],
   "source": [
    "plt.figure(figsize=(20,20))\n",
    "plt.subplot(221)\n",
    "sns.barplot(data =loan_data,y='loan_amnt', x='emp_length', hue ='loan_status',palette=\"pastel\")\n",
    "plt.subplot(222)\n",
    "sns.barplot(data =loan_data,y='loan_amnt', x='verification_status', hue ='loan_status',palette=\"pastel\")\n"
   ]
  },
  {
   "cell_type": "markdown",
   "id": "23e0b2be",
   "metadata": {},
   "source": [
    "### Grade vs interset rate"
   ]
  },
  {
   "cell_type": "code",
   "execution_count": 70,
   "id": "1db124f9",
   "metadata": {},
   "outputs": [
    {
     "data": {
      "image/png": "[encoded data removed]",
      "text/plain": [
       "<Figure size 720x720 with 1 Axes>"
      ]
     },
     "metadata": {
      "needs_background": "light"
     },
     "output_type": "display_data"
    }
   ],
   "source": [
    "plt.figure(figsize=(10,10))\n",
    "sns.barplot(data =loan_data,x='int_rate', y='grade', hue ='loan_status',palette=\"pastel\", order=['A','B','C','D','E','F','G'])\n",
    "plt.show()"
   ]
  },
  {
   "cell_type": "markdown",
   "id": "e9832dbd",
   "metadata": {},
   "source": [
    "# OBSERVATIONS\n",
    "\n",
    "### From the above analysis, we can say that there is high probability of defaulting when:\n",
    "\n",
    "➤ Applicant having income of 60k-70k and taking loan for 'home improvement'\n",
    "\n",
    "➤ Applicant having income of 60k-70k, whose home ownership as 'MORATGAGE'\n",
    "\n",
    "➤ Applicants having income of 70k-80k and received interest @21-24%\n",
    "\n",
    "➤ Applicants who took loan for 30k-35k, interest charged @ 15-17.5%\n",
    "\n",
    "➤ Applicants who took loan for small businesses, having loan amount> 14k\n",
    "\n",
    "➤ Applicants whose home ownersip is 'Mortgage' and have loan of 14-16k\n",
    "\n",
    "➤ loan amount of 15-20k and grade F\n",
    "\n",
    "➤ Employment length is 10yrs, having loan amount 12-14k\n",
    "\n",
    "➤ loan amount above 16k, and verified\n",
    "\n",
    "➤ Grade G and interest @20% or above."
   ]
  },
  {
   "cell_type": "code",
   "execution_count": null,
   "id": "805f5af5",
   "metadata": {},
   "outputs": [],
   "source": []
  }
 ],
 "metadata": {
  "kernelspec": {
   "display_name": "Python 3 (ipykernel)",
   "language": "python",
   "name": "python3"
  },
  "language_info": {
   "codemirror_mode": {
    "name": "ipython",
    "version": 3
   },
   "file_extension": ".py",
   "mimetype": "text/x-python",
   "name": "python",
   "nbconvert_exporter": "python",
   "pygments_lexer": "ipython3",
   "version": "3.9.12"
  }
 },
 "nbformat": 4,
 "nbformat_minor": 5
}
